{
 "cells": [
  {
   "cell_type": "code",
   "execution_count": null,
   "id": "af928f6b-e6c9-4e79-961d-64e21ad1d501",
   "metadata": {},
   "outputs": [],
   "source": [
    "%cd .."
   ]
  },
  {
   "cell_type": "code",
   "execution_count": null,
   "id": "77c84392-f712-4b5b-9d6e-894c3f9ad9cf",
   "metadata": {},
   "outputs": [],
   "source": [
    "from libraries.tests.test_dataset import test_dataset\n",
    "from libraries.plot_functions import plot_centroids_from_dict, plot_metrics_by_algorithm, plot_metrics_by_metrics, plot_metrics_by_dataset"
   ]
  },
  {
   "cell_type": "code",
   "execution_count": null,
   "id": "21998c0e-ec90-4bad-aac8-55c0e70a839f",
   "metadata": {},
   "outputs": [],
   "source": [
    "output_list = []\n",
    "output_list_name = []"
   ]
  },
  {
   "cell_type": "markdown",
   "id": "3dc78c9f-8d7c-461d-a120-5d3e3f6ca275",
   "metadata": {},
   "source": [
    "### Basic Motions"
   ]
  },
  {
   "cell_type": "code",
   "execution_count": null,
   "id": "10579451-3735-4867-b401-b289f7cc1a41",
   "metadata": {},
   "outputs": [],
   "source": [
    "chunk_length_train = 400\n",
    "chunk_length_test = 100\n",
    "std_div = 0\n",
    "n_clusters = 8\n",
    "n_classes = 4\n",
    "dim = 6\n",
    "injection = 1.0\n",
    "m = 2\n",
    "g_error = 0.05\n",
    "stratify_percantage = 1.0\n",
    "dataset_name = 'BasicMotions'\n",
    "visualise_processed_data = False\n",
    "visualise_non_incremental_data = False\n",
    "visualise_incremental_data = False\n",
    "print_statistics_incremental_data = False\n",
    "visualise_output_of_incremental_data = False"
   ]
  },
  {
   "cell_type": "code",
   "execution_count": null,
   "id": "647ee3b6-d525-4c93-b8b1-3d9e5b63ff26",
   "metadata": {},
   "outputs": [],
   "source": [
    "output_basic_motions = test_dataset(chunk_length_train = chunk_length_train, chunk_length_test = chunk_length_test, std_div = std_div, n_clusters = n_clusters, n_classes = n_classes, dim = dim, injection = injection, m = m, error = g_error, stratify_percantage = stratify_percantage, dataset_name = dataset_name, visualise_processed_data = visualise_processed_data, visualise_non_incremental_data = visualise_non_incremental_data, visualise_incremental_data = visualise_incremental_data, visualise_output_of_incremental_data = visualise_output_of_incremental_data,  print_statistics_incremental_data = print_statistics_incremental_data)\n",
    "output_list.append(output_basic_motions)\n",
    "output_list_name.append(dataset_name)"
   ]
  },
  {
   "cell_type": "code",
   "execution_count": null,
   "id": "e43a936e-8fb3-4542-ad16-7980ee6634a0",
   "metadata": {},
   "outputs": [],
   "source": [
    "plot_centroids_from_dict(output_basic_motions)"
   ]
  },
  {
   "cell_type": "markdown",
   "id": "43be3ae3-a8d9-4d4c-bed4-7db80940f40f",
   "metadata": {},
   "source": [
    "### Cricket"
   ]
  },
  {
   "cell_type": "code",
   "execution_count": null,
   "id": "b64c3928-aaa4-4c7b-86be-3c262ed56b65",
   "metadata": {},
   "outputs": [],
   "source": [
    "chunk_length_train = 1200\n",
    "chunk_length_test = 1200\n",
    "std_div = 0\n",
    "n_clusters = 24\n",
    "n_classes = 12\n",
    "dim = 6\n",
    "injection = 1.0\n",
    "m = 2\n",
    "g_error = 0.05\n",
    "stratify_percantage = 1.0\n",
    "dataset_name = 'Cricket'\n",
    "visualise_processed_data = False\n",
    "visualise_non_incremental_data = False\n",
    "visualise_incremental_data = False\n",
    "print_statistics_incremental_data = False\n",
    "visualise_output_of_incremental_data = False"
   ]
  },
  {
   "cell_type": "code",
   "execution_count": null,
   "id": "dcb89c8c-d608-4208-8bfb-2dc63ecc1c5a",
   "metadata": {},
   "outputs": [],
   "source": [
    "output_cricket = test_dataset(chunk_length_train = chunk_length_train, chunk_length_test = chunk_length_test, std_div = std_div, n_clusters = n_clusters, n_classes = n_classes, dim = dim, injection = injection, m = m, error = g_error, stratify_percantage = stratify_percantage, dataset_name = dataset_name, visualise_processed_data = visualise_processed_data, visualise_non_incremental_data = visualise_non_incremental_data, visualise_incremental_data = visualise_incremental_data, visualise_output_of_incremental_data = visualise_output_of_incremental_data ,  print_statistics_incremental_data = print_statistics_incremental_data)\n",
    "output_list.append(output_cricket)\n",
    "output_list_name.append(dataset_name)"
   ]
  },
  {
   "cell_type": "code",
   "execution_count": null,
   "id": "1a50dc60-6296-4480-b2a3-66e25b2d6ecd",
   "metadata": {},
   "outputs": [],
   "source": [
    "plot_centroids_from_dict(output_cricket)"
   ]
  },
  {
   "cell_type": "markdown",
   "id": "60a80f05-0c75-4f71-a9d2-703b18fc5807",
   "metadata": {},
   "source": [
    "### Wyświetlanie 2"
   ]
  },
  {
   "cell_type": "code",
   "execution_count": null,
   "id": "96cefae0-afa4-448f-b916-5e2fb3f89ea7",
   "metadata": {
    "scrolled": true
   },
   "outputs": [],
   "source": [
    "plot_metrics_by_metrics(output_list, output_list_name)\n",
    "plot_metrics_by_algorithm(output_list, output_list_name)\n",
    "plot_metrics_by_dataset(output_list, output_list_name)"
   ]
  },
  {
   "cell_type": "markdown",
   "id": "034a194c-b2bb-4382-aa0c-f87b660993f8",
   "metadata": {
    "jp-MarkdownHeadingCollapsed": true
   },
   "source": [
    "### EigenWorms"
   ]
  },
  {
   "cell_type": "code",
   "execution_count": null,
   "id": "8eeea4a1-66f7-402a-b7ac-b7925e83ff23",
   "metadata": {},
   "outputs": [],
   "source": [
    "chunk_length_train = 128\n",
    "chunk_length_test = 131\n",
    "std_div = 0\n",
    "n_clusters = 10\n",
    "n_classes = 5\n",
    "dim = 6\n",
    "injection = 1.0\n",
    "m = 2\n",
    "g_error = 0.05\n",
    "stratify_percantage = 0.01\n",
    "dataset_name = 'EigenWorms'\n",
    "visualise_processed_data = False\n",
    "visualise_non_incremental_data = False\n",
    "visualise_incremental_data = False\n",
    "print_statistics_incremental_data = False\n",
    "visualise_output_of_incremental_data = False"
   ]
  },
  {
   "cell_type": "code",
   "execution_count": null,
   "id": "b725ffbd-bd92-4dde-b198-82b6d88cc728",
   "metadata": {},
   "outputs": [],
   "source": [
    "#output_eigen_worms = test_dataset(chunk_length_train = chunk_length_train, chunk_length_test = chunk_length_test, std_div = std_div, n_clusters = n_clusters, n_classes = n_classes, dim = dim, injection = injection, m = m, error = g_error, stratify_percantage = stratify_percantage, dataset_name = dataset_name, visualise_processed_data = visualise_processed_data, visualise_non_incremental_data = visualise_non_incremental_data, visualise_incremental_data = visualise_incremental_data, visualise_output_of_incremental_data = visualise_output_of_incremental_data ,  print_statistics_incremental_data = print_statistics_incremental_data)\n",
    "#output_list.append(output_cricket)\n",
    "#output_list_name.append(dataset_name)"
   ]
  },
  {
   "cell_type": "code",
   "execution_count": null,
   "id": "a47491c3-9852-418e-866e-cae892966a40",
   "metadata": {},
   "outputs": [],
   "source": [
    "#plot_centroids_from_dict(output_eigen_worms)"
   ]
  },
  {
   "cell_type": "markdown",
   "id": "e96433ed-d51d-469f-a372-931521ac2b38",
   "metadata": {},
   "source": [
    "### ArticularyWordRecognition"
   ]
  },
  {
   "cell_type": "code",
   "execution_count": null,
   "id": "6648f908-9067-4859-8c92-fc977ee53e21",
   "metadata": {},
   "outputs": [],
   "source": [
    "chunk_length_train = 275\n",
    "chunk_length_test = 300\n",
    "std_div = 0\n",
    "n_classes = 25\n",
    "n_clusters = n_classes * 2\n",
    "dim = 9\n",
    "injection = 1.0\n",
    "m = 2\n",
    "g_error = 0.05\n",
    "stratify_percantage = 0.2\n",
    "dataset_name = 'ArticularyWordRecognition'\n",
    "visualise_processed_data = False\n",
    "visualise_non_incremental_data = False\n",
    "visualise_incremental_data = False\n",
    "print_statistics_incremental_data = False\n",
    "visualise_output_of_incremental_data = False"
   ]
  },
  {
   "cell_type": "code",
   "execution_count": null,
   "id": "e1a9d85a-5a25-4960-8eae-dade22e6ce2e",
   "metadata": {},
   "outputs": [],
   "source": [
    "output_articulary_word_recognition = test_dataset(chunk_length_train = chunk_length_train, chunk_length_test = chunk_length_test, std_div = std_div, n_clusters = n_clusters, n_classes = n_classes, dim = dim, injection = injection, m = m, error = g_error, stratify_percantage = stratify_percantage, dataset_name = dataset_name, visualise_processed_data = visualise_processed_data, visualise_non_incremental_data = visualise_non_incremental_data, visualise_incremental_data = visualise_incremental_data, visualise_output_of_incremental_data = visualise_output_of_incremental_data ,  print_statistics_incremental_data = print_statistics_incremental_data)\n",
    "output_list.append(output_articulary_word_recognition)\n",
    "output_list_name.append(dataset_name)"
   ]
  },
  {
   "cell_type": "code",
   "execution_count": null,
   "id": "b71746a8-6aa3-451a-b2bb-561b453251f6",
   "metadata": {},
   "outputs": [],
   "source": [
    "plot_centroids_from_dict(output_articulary_word_recognition)"
   ]
  },
  {
   "cell_type": "markdown",
   "id": "b54ab983-47c6-4c1d-a273-e140a8919150",
   "metadata": {
    "jp-MarkdownHeadingCollapsed": true
   },
   "source": [
    "### AtrialFibrillation"
   ]
  },
  {
   "cell_type": "code",
   "execution_count": null,
   "id": "b0189576-df61-4117-872f-72f791d70092",
   "metadata": {},
   "outputs": [],
   "source": [
    "chunk_length_train = 150\n",
    "chunk_length_test = 150\n",
    "std_div = 0\n",
    "n_classes = 3\n",
    "n_clusters = 6\n",
    "dim = 2\n",
    "injection = 1.0\n",
    "m = 2\n",
    "g_error = 0.05\n",
    "stratify_percantage = 1.0\n",
    "dataset_name = 'AtrialFibrillation'\n",
    "visualise_processed_data = False\n",
    "visualise_non_incremental_data = False\n",
    "visualise_incremental_data = False\n",
    "print_statistics_incremental_data = False\n",
    "visualise_output_of_incremental_data = False"
   ]
  },
  {
   "cell_type": "code",
   "execution_count": null,
   "id": "33a19081-e26a-4988-a622-bee8491ac40a",
   "metadata": {},
   "outputs": [],
   "source": [
    "#output_atrial_fibrillation = test_dataset(chunk_length_train = chunk_length_train, chunk_length_test = chunk_length_test, std_div = std_div, n_clusters = n_clusters, n_classes = n_classes, dim = dim, injection = injection, m = m, error = g_error, stratify_percantage = stratify_percantage, dataset_name = dataset_name, visualise_processed_data = visualise_processed_data, visualise_non_incremental_data = visualise_non_incremental_data, visualise_incremental_data = visualise_incremental_data, visualise_output_of_incremental_data = visualise_output_of_incremental_data ,  print_statistics_incremental_data = print_statistics_incremental_data)\n",
    "#output_list.append(output_atrial_fibrillation)\n",
    "#output_list_name.append(dataset_name)"
   ]
  },
  {
   "cell_type": "code",
   "execution_count": null,
   "id": "e2cc6da4-cabb-44b7-8aff-525b8b55a71a",
   "metadata": {},
   "outputs": [],
   "source": [
    "#plot_centroids_from_dict(output_atrial_fibrillation)"
   ]
  },
  {
   "cell_type": "markdown",
   "id": "74be90f6-63c0-42ae-88d0-efef4ecabfa0",
   "metadata": {},
   "source": [
    "### Epilepsy"
   ]
  },
  {
   "cell_type": "code",
   "execution_count": null,
   "id": "bb4052d8-636e-4d72-ab09-5f7c4b2e329b",
   "metadata": {},
   "outputs": [],
   "source": [
    "chunk_length_train = 137 * 2\n",
    "chunk_length_test = 138 * 2\n",
    "std_div = 0\n",
    "n_classes = 4\n",
    "n_clusters = n_classes * 2\n",
    "dim = 3\n",
    "injection = 1.0\n",
    "m = 2\n",
    "g_error = 0.05\n",
    "stratify_percantage = 0.5\n",
    "dataset_name = 'Epilepsy'\n",
    "visualise_processed_data = False\n",
    "visualise_non_incremental_data = False\n",
    "visualise_incremental_data = False\n",
    "print_statistics_incremental_data = False\n",
    "visualise_output_of_incremental_data = False"
   ]
  },
  {
   "cell_type": "code",
   "execution_count": null,
   "id": "a58065e0-b5aa-40bc-84b1-84c5b65771a4",
   "metadata": {},
   "outputs": [],
   "source": [
    "output_epilepsy = test_dataset(chunk_length_train = chunk_length_train, chunk_length_test = chunk_length_test, std_div = std_div, n_clusters = n_clusters, n_classes = n_classes, dim = dim, injection = injection, m = m, error = g_error, stratify_percantage = stratify_percantage, dataset_name = dataset_name, visualise_processed_data = visualise_processed_data, visualise_non_incremental_data = visualise_non_incremental_data, visualise_incremental_data = visualise_incremental_data, visualise_output_of_incremental_data = visualise_output_of_incremental_data ,  print_statistics_incremental_data = print_statistics_incremental_data)\n",
    "output_list.append(output_epilepsy)\n",
    "output_list_name.append(dataset_name)"
   ]
  },
  {
   "cell_type": "code",
   "execution_count": null,
   "id": "580b415b-c9b3-4657-a44d-da5beaaeb5a1",
   "metadata": {},
   "outputs": [],
   "source": [
    "plot_centroids_from_dict(output_epilepsy)"
   ]
  },
  {
   "cell_type": "markdown",
   "id": "38cb359d-b1ea-44a9-b172-9caa2c55629f",
   "metadata": {
    "jp-MarkdownHeadingCollapsed": true
   },
   "source": [
    "### ERing"
   ]
  },
  {
   "cell_type": "code",
   "execution_count": null,
   "id": "b803a4db-ec3c-4b76-9975-87ca3d800b50",
   "metadata": {},
   "outputs": [],
   "source": [
    "chunk_length_train = 300\n",
    "chunk_length_test = 270\n",
    "std_div = 0\n",
    "n_classes = 6\n",
    "n_clusters = n_classes * 2\n",
    "dim = 4\n",
    "injection = 1.0\n",
    "m = 2\n",
    "g_error = 0.05\n",
    "stratify_percantage = 1.0\n",
    "dataset_name = 'ERing'\n",
    "visualise_processed_data = False\n",
    "visualise_non_incremental_data = False\n",
    "visualise_incremental_data = False\n",
    "print_statistics_incremental_data = False\n",
    "visualise_output_of_incremental_data = False"
   ]
  },
  {
   "cell_type": "code",
   "execution_count": null,
   "id": "4b1d0cde-9b95-4d85-ade9-e81c20cc6ff4",
   "metadata": {},
   "outputs": [],
   "source": [
    "#output_ering = test_dataset(chunk_length_train = chunk_length_train, chunk_length_test = chunk_length_test, std_div = std_div, n_clusters = n_clusters, n_classes = n_classes, dim = dim, injection = injection, m = m, error = g_error, stratify_percantage = stratify_percantage, dataset_name = dataset_name, visualise_processed_data = visualise_processed_data, visualise_non_incremental_data = visualise_non_incremental_data, visualise_incremental_data = visualise_incremental_data, visualise_output_of_incremental_data = visualise_output_of_incremental_data ,  print_statistics_incremental_data = print_statistics_incremental_data)\n",
    "#output_list.append(output_ering)\n",
    "#output_list_name.append(dataset_name)"
   ]
  },
  {
   "cell_type": "code",
   "execution_count": null,
   "id": "5e70f1ad-fca1-4842-8222-459b92ed4e2d",
   "metadata": {},
   "outputs": [],
   "source": [
    "#plot_centroids_from_dict(output_ering)"
   ]
  },
  {
   "cell_type": "markdown",
   "id": "f5973249-024f-4496-97a9-728dc5dedd65",
   "metadata": {},
   "source": [
    "### EthanolConcentration"
   ]
  },
  {
   "cell_type": "code",
   "execution_count": null,
   "id": "701ab805-a7d7-4279-8899-42abb37b370d",
   "metadata": {},
   "outputs": [],
   "source": [
    "chunk_length_train = 261\n",
    "chunk_length_test = 263\n",
    "std_div = 0\n",
    "n_classes = 4\n",
    "n_clusters = n_classes * 2\n",
    "dim = 3\n",
    "injection = 1.0\n",
    "m = 2\n",
    "g_error = 0.05\n",
    "stratify_percantage = 0.02\n",
    "dataset_name = 'EthanolConcentration'\n",
    "visualise_processed_data = False\n",
    "visualise_non_incremental_data = False\n",
    "visualise_incremental_data = False\n",
    "print_statistics_incremental_data = False"
   ]
  },
  {
   "cell_type": "code",
   "execution_count": null,
   "id": "3e840f68-486d-4988-a1d2-5d0ccbaca818",
   "metadata": {},
   "outputs": [],
   "source": [
    "output_ethanol = test_dataset(chunk_length_train = chunk_length_train, chunk_length_test = chunk_length_test, std_div = std_div, n_clusters = n_clusters, n_classes = n_classes, dim = dim, injection = injection, m = m, error = g_error, stratify_percantage = stratify_percantage, dataset_name = dataset_name, visualise_processed_data = visualise_processed_data, visualise_non_incremental_data = visualise_non_incremental_data, visualise_incremental_data = visualise_incremental_data, visualise_output_of_incremental_data = visualise_output_of_incremental_data ,  print_statistics_incremental_data = print_statistics_incremental_data)\n",
    "output_list.append(output_ethanol)\n",
    "output_list_name.append(dataset_name)"
   ]
  },
  {
   "cell_type": "code",
   "execution_count": null,
   "id": "190a3980-5870-4c1e-bd31-ad37a92b4227",
   "metadata": {},
   "outputs": [],
   "source": [
    "plot_centroids_from_dict(output_ethanol)"
   ]
  },
  {
   "cell_type": "markdown",
   "id": "53d82049-1be3-44e5-9aa7-f5ea13352b6d",
   "metadata": {},
   "source": [
    "### Finger Movements"
   ]
  },
  {
   "cell_type": "code",
   "execution_count": null,
   "id": "0e5abf15-dffe-4714-a077-47af202d0633",
   "metadata": {},
   "outputs": [],
   "source": [
    "chunk_length_train = 316\n",
    "chunk_length_test = 300\n",
    "std_div = 0\n",
    "n_classes = 2\n",
    "n_clusters = n_classes * 2\n",
    "dim = 28\n",
    "injection = 1.0\n",
    "m = 2\n",
    "g_error = 0.05\n",
    "stratify_percantage = 0.5\n",
    "dataset_name = 'FingerMovements'\n",
    "visualise_processed_data = False\n",
    "visualise_non_incremental_data = False\n",
    "visualise_incremental_data = False\n",
    "print_statistics_incremental_data = False"
   ]
  },
  {
   "cell_type": "code",
   "execution_count": null,
   "id": "4c2e9221-44ee-41d4-bc7f-9a77674a0335",
   "metadata": {},
   "outputs": [],
   "source": [
    "output_finger_movments = test_dataset(chunk_length_train = chunk_length_train, chunk_length_test = chunk_length_test, std_div = std_div, n_clusters = n_clusters, n_classes = n_classes, dim = dim, injection = injection, m = m, error = g_error, stratify_percantage = stratify_percantage, dataset_name = dataset_name, visualise_processed_data = visualise_processed_data, visualise_non_incremental_data = visualise_non_incremental_data, visualise_incremental_data = visualise_incremental_data, visualise_output_of_incremental_data = visualise_output_of_incremental_data ,  print_statistics_incremental_data = print_statistics_incremental_data)\n",
    "output_list.append(output_finger_movments)\n",
    "output_list_name.append(dataset_name)"
   ]
  },
  {
   "cell_type": "code",
   "execution_count": null,
   "id": "c3f3af43-6732-491e-bd48-c2212148882f",
   "metadata": {},
   "outputs": [],
   "source": [
    "plot_centroids_from_dict(output_finger_movments)"
   ]
  },
  {
   "cell_type": "markdown",
   "id": "6cfc8192-b19c-45ce-8431-bc4c64396a26",
   "metadata": {},
   "source": [
    "### Handwriting"
   ]
  },
  {
   "cell_type": "code",
   "execution_count": null,
   "id": "c5638992-0983-44b1-a368-40ca363a773b",
   "metadata": {},
   "outputs": [],
   "source": [
    "chunk_length_train = 300\n",
    "chunk_length_test = 850\n",
    "std_div = 0\n",
    "n_classes = 26\n",
    "n_clusters = n_classes * 2\n",
    "dim = 3\n",
    "injection = 1.0\n",
    "m = 2\n",
    "g_error = 0.05\n",
    "stratify_percantage = 0.1\n",
    "dataset_name = 'Handwriting'\n",
    "visualise_processed_data = False\n",
    "visualise_non_incremental_data = False\n",
    "visualise_incremental_data = False\n",
    "print_statistics_incremental_data = False"
   ]
  },
  {
   "cell_type": "code",
   "execution_count": null,
   "id": "c742581c-fab2-4581-bd43-1c3123fb8490",
   "metadata": {},
   "outputs": [],
   "source": [
    "output_handwriting = test_dataset(chunk_length_train = chunk_length_train, chunk_length_test = chunk_length_test, std_div = std_div, n_clusters = n_clusters, n_classes = n_classes, dim = dim, injection = injection, m = m, error = g_error, stratify_percantage = stratify_percantage, dataset_name = dataset_name, visualise_processed_data = visualise_processed_data, visualise_non_incremental_data = visualise_non_incremental_data, visualise_incremental_data = visualise_incremental_data, visualise_output_of_incremental_data = visualise_output_of_incremental_data ,  print_statistics_incremental_data = print_statistics_incremental_data)\n",
    "output_list.append(output_handwriting)\n",
    "output_list_name.append(dataset_name)"
   ]
  },
  {
   "cell_type": "code",
   "execution_count": null,
   "id": "376e3941-9d69-4a7e-8d0e-e5cb2a99e279",
   "metadata": {},
   "outputs": [],
   "source": [
    "plot_centroids_from_dict(output_handwriting)"
   ]
  },
  {
   "cell_type": "markdown",
   "id": "5abc30eb-fd16-4cf3-8a02-faa29a3fdd03",
   "metadata": {},
   "source": [
    "### Heartbeat"
   ]
  },
  {
   "cell_type": "code",
   "execution_count": null,
   "id": "abcac332-0a65-4ac4-a869-875357240bd9",
   "metadata": {},
   "outputs": [],
   "source": [
    "chunk_length_train = 204*4\n",
    "chunk_length_test = 205*4\n",
    "std_div = 0\n",
    "n_classes = 2\n",
    "n_clusters = n_classes * 2\n",
    "dim = 61\n",
    "injection = 1.0\n",
    "m = 2\n",
    "g_error = 0.05\n",
    "stratify_percantage = 0.5\n",
    "dataset_name = 'Heartbeat'\n",
    "visualise_processed_data = False\n",
    "visualise_non_incremental_data = False\n",
    "visualise_incremental_data = False\n",
    "print_statistics_incremental_data = False"
   ]
  },
  {
   "cell_type": "code",
   "execution_count": null,
   "id": "fb9ad809-beff-4615-a3de-6b53b3017c30",
   "metadata": {},
   "outputs": [],
   "source": [
    "output_heartbeat = test_dataset(chunk_length_train = chunk_length_train, chunk_length_test = chunk_length_test, std_div = std_div, n_clusters = n_clusters, n_classes = n_classes, dim = dim, injection = injection, m = m, error = g_error, stratify_percantage = stratify_percantage, dataset_name = dataset_name, visualise_processed_data = visualise_processed_data, visualise_non_incremental_data = visualise_non_incremental_data, visualise_incremental_data = visualise_incremental_data, visualise_output_of_incremental_data = visualise_output_of_incremental_data ,  print_statistics_incremental_data = print_statistics_incremental_data)\n",
    "output_list.append(output_heartbeat)\n",
    "output_list_name.append(dataset_name)"
   ]
  },
  {
   "cell_type": "code",
   "execution_count": null,
   "id": "52b17c87-9bd7-40c2-9a53-19464379abc6",
   "metadata": {},
   "outputs": [],
   "source": [
    "plot_centroids_from_dict(output_heartbeat)"
   ]
  },
  {
   "cell_type": "markdown",
   "id": "9cbc115d-3af5-4894-a4cf-13c19548286a",
   "metadata": {},
   "source": [
    "### Libras"
   ]
  },
  {
   "cell_type": "code",
   "execution_count": null,
   "id": "5bafe640-4319-46f1-93f0-4558a36cded5",
   "metadata": {},
   "outputs": [],
   "source": [
    "chunk_length_train = 180*4\n",
    "chunk_length_test = 180*4\n",
    "std_div = 0\n",
    "n_classes = 15\n",
    "n_clusters = n_classes * 2\n",
    "dim = 2\n",
    "injection = 1.0\n",
    "m = 2\n",
    "g_error = 0.05\n",
    "stratify_percantage = 1.0\n",
    "dataset_name = 'Libras'\n",
    "visualise_processed_data = False\n",
    "visualise_non_incremental_data = False\n",
    "visualise_incremental_data = False\n",
    "print_statistics_incremental_data = False"
   ]
  },
  {
   "cell_type": "code",
   "execution_count": null,
   "id": "29d7946b-54a5-4919-a761-0c1436093b81",
   "metadata": {},
   "outputs": [],
   "source": [
    "output_libras = test_dataset(chunk_length_train = chunk_length_train, chunk_length_test = chunk_length_test, std_div = std_div, n_clusters = n_clusters, n_classes = n_classes, dim = dim, injection = injection, m = m, error = g_error, stratify_percantage = stratify_percantage, dataset_name = dataset_name, visualise_processed_data = visualise_processed_data, visualise_non_incremental_data = visualise_non_incremental_data, visualise_incremental_data = visualise_incremental_data, visualise_output_of_incremental_data = visualise_output_of_incremental_data ,  print_statistics_incremental_data = print_statistics_incremental_data)\n",
    "output_list.append(output_libras)\n",
    "output_list_name.append(dataset_name)"
   ]
  },
  {
   "cell_type": "code",
   "execution_count": null,
   "id": "ec3a060d-b395-4b6a-a5fb-3af9f6b15557",
   "metadata": {},
   "outputs": [],
   "source": [
    "plot_centroids_from_dict(output_libras)"
   ]
  },
  {
   "cell_type": "markdown",
   "id": "27b204b1-bf06-4d48-bc72-2c6363dd7006",
   "metadata": {},
   "source": [
    "### MotorImagery"
   ]
  },
  {
   "cell_type": "code",
   "execution_count": null,
   "id": "d5a92bc4-c368-421c-a523-7cc3d2b5c0a1",
   "metadata": {},
   "outputs": [],
   "source": [
    "chunk_length_train = 278*4\n",
    "chunk_length_test = 100*4\n",
    "std_div = 0\n",
    "n_classes = 2\n",
    "n_clusters = n_classes * 2\n",
    "dim = 64\n",
    "injection = 1.0\n",
    "m = 2\n",
    "g_error = 0.05\n",
    "stratify_percantage = 0.05\n",
    "dataset_name = 'MotorImagery'\n",
    "visualise_processed_data = False\n",
    "visualise_non_incremental_data = False\n",
    "visualise_incremental_data = False\n",
    "print_statistics_incremental_data = False"
   ]
  },
  {
   "cell_type": "code",
   "execution_count": null,
   "id": "4f153ce0-bf06-4f18-9bc6-526d74454cad",
   "metadata": {},
   "outputs": [],
   "source": [
    "output_motor_imagery = test_dataset(chunk_length_train = chunk_length_train, chunk_length_test = chunk_length_test, std_div = std_div, n_clusters = n_clusters, n_classes = n_classes, dim = dim, injection = injection, m = m, error = g_error, stratify_percantage = stratify_percantage, dataset_name = dataset_name, visualise_processed_data = visualise_processed_data, visualise_non_incremental_data = visualise_non_incremental_data, visualise_incremental_data = visualise_incremental_data, visualise_output_of_incremental_data = visualise_output_of_incremental_data ,  print_statistics_incremental_data = print_statistics_incremental_data)\n",
    "output_list.append(output_motor_imagery)\n",
    "output_list_name.append(dataset_name)"
   ]
  },
  {
   "cell_type": "code",
   "execution_count": null,
   "id": "86005b36-1d23-4e2d-9603-cf0bec530487",
   "metadata": {},
   "outputs": [],
   "source": [
    "plot_centroids_from_dict(output_motor_imagery)"
   ]
  },
  {
   "cell_type": "markdown",
   "id": "08233d72-488b-4fcb-853c-a839214bcd42",
   "metadata": {},
   "source": [
    "### NATOPS"
   ]
  },
  {
   "cell_type": "code",
   "execution_count": null,
   "id": "f6effcd4-76f8-4f19-ba78-a35d5212cd51",
   "metadata": {},
   "outputs": [],
   "source": [
    "chunk_length_train = 180*4\n",
    "chunk_length_test = 180*4\n",
    "std_div = 0\n",
    "n_classes = 6\n",
    "n_clusters = n_classes * 2\n",
    "dim = 24\n",
    "injection = 1.0\n",
    "m = 2\n",
    "g_error = 0.05\n",
    "stratify_percantage = 1.0\n",
    "dataset_name = 'NATOPS'\n",
    "visualise_processed_data = False\n",
    "visualise_non_incremental_data = False\n",
    "visualise_incremental_data = False\n",
    "print_statistics_incremental_data = False"
   ]
  },
  {
   "cell_type": "code",
   "execution_count": null,
   "id": "88b534aa-58da-4eeb-9c69-5be7c0d04fb9",
   "metadata": {},
   "outputs": [],
   "source": [
    "output_natops = test_dataset(chunk_length_train = chunk_length_train, chunk_length_test = chunk_length_test, std_div = std_div, n_clusters = n_clusters, n_classes = n_classes, dim = dim, injection = injection, m = m, error = g_error, stratify_percantage = stratify_percantage, dataset_name = dataset_name, visualise_processed_data = visualise_processed_data, visualise_non_incremental_data = visualise_non_incremental_data, visualise_incremental_data = visualise_incremental_data, visualise_output_of_incremental_data = visualise_output_of_incremental_data ,  print_statistics_incremental_data = print_statistics_incremental_data)\n",
    "output_list.append(output_natops)\n",
    "output_list_name.append(dataset_name)"
   ]
  },
  {
   "cell_type": "code",
   "execution_count": null,
   "id": "435837f2-bb18-490b-a734-6a4a82322237",
   "metadata": {},
   "outputs": [],
   "source": [
    "plot_centroids_from_dict(output_natops)"
   ]
  },
  {
   "cell_type": "markdown",
   "id": "4b850a83-afe6-48da-be88-a2a1b20f753f",
   "metadata": {},
   "source": [
    "### Porównanie wszystkich dataset'ów"
   ]
  },
  {
   "cell_type": "code",
   "execution_count": null,
   "id": "fc26454a-e3e5-4c8d-b381-d2e1d3146f83",
   "metadata": {},
   "outputs": [],
   "source": [
    "plot_metrics_by_dataset(output_list, output_list_name)"
   ]
  },
  {
   "cell_type": "code",
   "execution_count": null,
   "id": "63a7091f-1e1a-41f6-b274-06127e553304",
   "metadata": {},
   "outputs": [],
   "source": [
    "plot_metrics_by_metrics(output_list, output_list_name)"
   ]
  },
  {
   "cell_type": "code",
   "execution_count": null,
   "id": "5ae89eeb-7c14-459d-9369-e897a661dea9",
   "metadata": {},
   "outputs": [],
   "source": [
    "plot_metrics_by_algorithm(output_list, output_list_name)"
   ]
  },
  {
   "cell_type": "code",
   "execution_count": null,
   "id": "9f4f6cf9-0fce-46c4-b57a-020a41a61fe0",
   "metadata": {},
   "outputs": [],
   "source": []
  }
 ],
 "metadata": {
  "kernelspec": {
   "display_name": "python311",
   "language": "python",
   "name": "python311"
  },
  "language_info": {
   "codemirror_mode": {
    "name": "ipython",
    "version": 3
   },
   "file_extension": ".py",
   "mimetype": "text/x-python",
   "name": "python",
   "nbconvert_exporter": "python",
   "pygments_lexer": "ipython3",
   "version": "3.11.9"
  }
 },
 "nbformat": 4,
 "nbformat_minor": 5
}
