{
 "cells": [
  {
   "cell_type": "code",
   "execution_count": null,
   "id": "760f3465-55cb-4284-9f11-9de577dac395",
   "metadata": {},
   "outputs": [],
   "source": [
    "import numpy as np\n",
    "import pandas as pd\n",
    "import matplotlib.pyplot as plt\n",
    "import seaborn as sns\n",
    "import sktime\n",
    "from sktime.datasets import load_UCR_UEA_dataset\n",
    "from sktime.transformations.panel.rocket import MiniRocketMultivariateVariable\n",
    "import lightgbm as lgbm\n",
    "from sklearn.preprocessing import LabelEncoder\n",
    "from sklearn.metrics import accuracy_score, ConfusionMatrixDisplay\n",
    "\n",
    "X_train, y_train = load_UCR_UEA_dataset(name='AsphaltPavementType', split='train')\n",
    "X_test, y_test = load_UCR_UEA_dataset(name='AsphaltPavementType', split='test')\n"
   ]
  },
  {
   "cell_type": "code",
   "execution_count": null,
   "id": "90038884-be75-4773-b102-f6d5582d2f5a",
   "metadata": {},
   "outputs": [],
   "source": [
    "\n",
    "# plot train and test labels distribution\n",
    "_, ax = plt.subplots(1, 2)\n",
    "labels, counts = np.unique(y_train, return_counts=True)\n",
    "ax[0].bar(labels, height=counts)\n",
    "ax[0].set_title('train')\n",
    "\n",
    "labels, counts = np.unique(y_test, return_counts=True)\n",
    "ax[1].bar(labels, height=counts)\n",
    "ax[1].set_title('test')\n",
    "plt.savefig('class_distribution.png', dpi=300)\n",
    "\n",
    "# Encode label\n",
    "enc = LabelEncoder()\n",
    "enc.fit(y_train)\n",
    "y_train_tr = enc.transform(y_train)\n",
    "y_test_tr = enc.transform(y_test)\n",
    "\n",
    "# Data exploration\n",
    "print(X_train.shape) #each row is a time series\n",
    "print(type(X_train.iloc[1,0]))\n",
    "print(X_train)\n",
    "print(X_train.iloc[0,0])\n"
   ]
  },
  {
   "cell_type": "code",
   "execution_count": null,
   "id": "94b7306e-9e82-4ca5-9006-1882886c31f8",
   "metadata": {},
   "outputs": [],
   "source": [
    "i = 0\n",
    "xmin= 100000\n",
    "xmax = 0\n",
    "while i<X_train.shape[0]:\n",
    "    x = X_train.iloc[i,0].shape[0]\n",
    "    print(x)\n",
    "    if(xmin>x):\n",
    "        xmin = x\n",
    "    if(xmax<x):\n",
    "        xmax = x\n",
    "    i += 1"
   ]
  },
  {
   "cell_type": "code",
   "execution_count": null,
   "id": "f40c9470-d7ad-48d8-b0ec-51cbf35c0709",
   "metadata": {},
   "outputs": [],
   "source": [
    "i = 0\n",
    "xmin= 100000\n",
    "xmax = 0\n",
    "while i<X_test.shape[0]:\n",
    "    x = X_train.iloc[i,0].shape[0]\n",
    "    print(x)\n",
    "    if(xmin>x):\n",
    "        xmin = x\n",
    "    if(xmax<x):\n",
    "        xmax = x\n",
    "    i += 1"
   ]
  },
  {
   "cell_type": "code",
   "execution_count": null,
   "id": "1d8a217c-1144-4293-b809-9af858862c53",
   "metadata": {},
   "outputs": [],
   "source": [
    "print(X_test_tr.shape)\n",
    "print(y_test_tr.shape)"
   ]
  },
  {
   "cell_type": "code",
   "execution_count": null,
   "id": "d0f80a16-0ffc-404b-8fa1-ebdba3dde144",
   "metadata": {},
   "outputs": [],
   "source": [
    "\n",
    "ids = [0, 10, 21, 480, 500, 534, 999, 1011, 1030]\n",
    "_, ax = plt.subplots(3, 3, sharex='all')\n",
    "for i, a in zip(ids, ax.flat):\n",
    "      arr = X_train.iloc[i, 0]\n",
    "      lab = y_train[i]\n",
    "      a.plot(np.arange(len(arr)), arr)\n",
    "      a.set_title(lab)\n",
    "plt.savefig('input_data.png', dpi=300)\n",
    "\n",
    "# Transformation\n",
    "minirocket = MiniRocketMultivariateVariable(n_jobs=-1, random_state=9)\n",
    "minirocket.fit(X_train, y_train)\n",
    "X_train_tr = minirocket.transform(X_train)\n",
    "X_test_tr = minirocket.transform(X_test)\n",
    "print(f'The transformed train dataset has shape of {X_train_tr.shape}, \\n '\n",
    "      f'and the transformed test dataset has shape {X_test_tr.shape}')\n"
   ]
  },
  {
   "cell_type": "code",
   "execution_count": null,
   "id": "bb621bc3-943f-4eec-a9f6-66c1281e08f2",
   "metadata": {},
   "outputs": [],
   "source": [
    "\n",
    "# Transformation\n",
    "minirocket = MiniRocketMultivariateVariable(n_jobs=-1, random_state=7)\n",
    "minirocket.fit(X_train, y_train)\n",
    "X_train_tr = minirocket.transform(X_train)\n",
    "X_test_tr = minirocket.transform(X_test)\n",
    "print(f'The transformed train dataset has shape of {X_train_tr.shape}, \\n '\n",
    "      f'and the transformed test dataset has shape {X_test_tr.shape}')\n",
    "\n",
    "# Feed into a classifier\n",
    "clf = lgbm.LGBMClassifier(n_estimators=500, class_weight='balanced', random_state=112, n_jobs=-1)\n",
    "clf.fit(X_train_tr, y_train_tr)\n",
    "y_pred = clf.predict(X_test_tr)\n",
    "ConfusionMatrixDisplay.from_predictions(y_test, enc.inverse_transform(y_pred), cmap='summer', colorbar=False)\n",
    "plt.title(f'Accuracy using MiniRocket: {accuracy_score(y_test_tr, y_pred)}')\n",
    "plt.savefig('confusion_matrix.png', dpi=300)"
   ]
  },
  {
   "cell_type": "code",
   "execution_count": null,
   "id": "45ee4363-0b6e-4bc6-8b3e-757265e2cc99",
   "metadata": {},
   "outputs": [],
   "source": []
  }
 ],
 "metadata": {
  "kernelspec": {
   "display_name": "Python 3 (ipykernel)",
   "language": "python",
   "name": "python3"
  },
  "language_info": {
   "codemirror_mode": {
    "name": "ipython",
    "version": 3
   },
   "file_extension": ".py",
   "mimetype": "text/x-python",
   "name": "python",
   "nbconvert_exporter": "python",
   "pygments_lexer": "ipython3",
   "version": "3.12.4"
  }
 },
 "nbformat": 4,
 "nbformat_minor": 5
}
