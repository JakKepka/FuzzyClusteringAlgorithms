{
 "cells": [
  {
   "cell_type": "markdown",
   "id": "e18ffefe-21bf-43e8-aed4-f5c380411db3",
   "metadata": {},
   "source": [
    "# Analiza i klasyfikacja szeregów czasowych dla BasicMotions"
   ]
  },
  {
   "cell_type": "code",
   "execution_count": 2,
   "id": "7ecc1fb9-e901-4712-b336-e41dad647341",
   "metadata": {},
   "outputs": [],
   "source": [
    "import numpy as np\n",
    "import matplotlib.pyplot as plt"
   ]
  },
  {
   "cell_type": "markdown",
   "id": "6dff5d8b-edef-455e-bd08-53b33a0be931",
   "metadata": {},
   "source": [
    "### Indeksowanie MultiIndex"
   ]
  },
  {
   "cell_type": "code",
   "execution_count": 6,
   "id": "951eb8f9-ec14-4934-a8c6-d66a9b3c1f91",
   "metadata": {},
   "outputs": [],
   "source": [
    "from sktime.datasets import load_basic_motions\n",
    "\n",
    "# load an example time series panel in pd-multiindex mtype\n",
    "X, _ = load_basic_motions(return_type=\"pd-multiindex\")\n",
    "\n",
    "# renaming columns for illustrative purposes\n",
    "X.columns = [\"accel_1\", \"accel_2\", \"accel_3\", \"gyro_1\", \"gyro_2\", \"gyro_3\"]\n",
    "X.index.names = [\"trial_no\", \"timepoint\"]"
   ]
  },
  {
   "cell_type": "code",
   "execution_count": 10,
   "id": "1ac873b4-4b0b-4c68-9c30-126602532786",
   "metadata": {},
   "outputs": [
    {
     "data": {
      "text/html": [
       "<div>\n",
       "<style scoped>\n",
       "    .dataframe tbody tr th:only-of-type {\n",
       "        vertical-align: middle;\n",
       "    }\n",
       "\n",
       "    .dataframe tbody tr th {\n",
       "        vertical-align: top;\n",
       "    }\n",
       "\n",
       "    .dataframe thead th {\n",
       "        text-align: right;\n",
       "    }\n",
       "</style>\n",
       "<table border=\"1\" class=\"dataframe\">\n",
       "  <thead>\n",
       "    <tr style=\"text-align: right;\">\n",
       "      <th></th>\n",
       "      <th></th>\n",
       "      <th>accel_1</th>\n",
       "      <th>accel_2</th>\n",
       "      <th>accel_3</th>\n",
       "      <th>gyro_1</th>\n",
       "      <th>gyro_2</th>\n",
       "      <th>gyro_3</th>\n",
       "    </tr>\n",
       "    <tr>\n",
       "      <th>trial_no</th>\n",
       "      <th>timepoint</th>\n",
       "      <th></th>\n",
       "      <th></th>\n",
       "      <th></th>\n",
       "      <th></th>\n",
       "      <th></th>\n",
       "      <th></th>\n",
       "    </tr>\n",
       "  </thead>\n",
       "  <tbody>\n",
       "    <tr>\n",
       "      <th rowspan=\"5\" valign=\"top\">0</th>\n",
       "      <th>0</th>\n",
       "      <td>0.079106</td>\n",
       "      <td>0.394032</td>\n",
       "      <td>0.551444</td>\n",
       "      <td>0.351565</td>\n",
       "      <td>0.023970</td>\n",
       "      <td>0.633883</td>\n",
       "    </tr>\n",
       "    <tr>\n",
       "      <th>1</th>\n",
       "      <td>0.079106</td>\n",
       "      <td>0.394032</td>\n",
       "      <td>0.551444</td>\n",
       "      <td>0.351565</td>\n",
       "      <td>0.023970</td>\n",
       "      <td>0.633883</td>\n",
       "    </tr>\n",
       "    <tr>\n",
       "      <th>2</th>\n",
       "      <td>-0.903497</td>\n",
       "      <td>-3.666397</td>\n",
       "      <td>-0.282844</td>\n",
       "      <td>-0.095881</td>\n",
       "      <td>-0.319605</td>\n",
       "      <td>0.972131</td>\n",
       "    </tr>\n",
       "    <tr>\n",
       "      <th>3</th>\n",
       "      <td>1.116125</td>\n",
       "      <td>-0.656101</td>\n",
       "      <td>0.333118</td>\n",
       "      <td>1.624657</td>\n",
       "      <td>-0.569962</td>\n",
       "      <td>1.209171</td>\n",
       "    </tr>\n",
       "    <tr>\n",
       "      <th>4</th>\n",
       "      <td>1.638200</td>\n",
       "      <td>1.405135</td>\n",
       "      <td>0.393875</td>\n",
       "      <td>1.187864</td>\n",
       "      <td>-0.271664</td>\n",
       "      <td>1.739182</td>\n",
       "    </tr>\n",
       "    <tr>\n",
       "      <th>...</th>\n",
       "      <th>...</th>\n",
       "      <td>...</td>\n",
       "      <td>...</td>\n",
       "      <td>...</td>\n",
       "      <td>...</td>\n",
       "      <td>...</td>\n",
       "      <td>...</td>\n",
       "    </tr>\n",
       "    <tr>\n",
       "      <th rowspan=\"5\" valign=\"top\">79</th>\n",
       "      <th>95</th>\n",
       "      <td>28.459024</td>\n",
       "      <td>-16.633770</td>\n",
       "      <td>3.631869</td>\n",
       "      <td>8.978229</td>\n",
       "      <td>-3.611533</td>\n",
       "      <td>-1.491489</td>\n",
       "    </tr>\n",
       "    <tr>\n",
       "      <th>96</th>\n",
       "      <td>10.260094</td>\n",
       "      <td>0.102775</td>\n",
       "      <td>1.269261</td>\n",
       "      <td>-1.645964</td>\n",
       "      <td>-3.377157</td>\n",
       "      <td>1.283746</td>\n",
       "    </tr>\n",
       "    <tr>\n",
       "      <th>97</th>\n",
       "      <td>4.316471</td>\n",
       "      <td>-3.574319</td>\n",
       "      <td>2.063831</td>\n",
       "      <td>-1.717875</td>\n",
       "      <td>-1.843054</td>\n",
       "      <td>0.484734</td>\n",
       "    </tr>\n",
       "    <tr>\n",
       "      <th>98</th>\n",
       "      <td>0.704446</td>\n",
       "      <td>-4.920444</td>\n",
       "      <td>2.851857</td>\n",
       "      <td>-2.982977</td>\n",
       "      <td>-0.809665</td>\n",
       "      <td>-0.721774</td>\n",
       "    </tr>\n",
       "    <tr>\n",
       "      <th>99</th>\n",
       "      <td>-2.074749</td>\n",
       "      <td>-6.892377</td>\n",
       "      <td>4.848379</td>\n",
       "      <td>-1.350330</td>\n",
       "      <td>-1.203844</td>\n",
       "      <td>-1.776470</td>\n",
       "    </tr>\n",
       "  </tbody>\n",
       "</table>\n",
       "<p>8000 rows × 6 columns</p>\n",
       "</div>"
      ],
      "text/plain": [
       "                      accel_1    accel_2   accel_3    gyro_1    gyro_2  \\\n",
       "trial_no timepoint                                                       \n",
       "0        0           0.079106   0.394032  0.551444  0.351565  0.023970   \n",
       "         1           0.079106   0.394032  0.551444  0.351565  0.023970   \n",
       "         2          -0.903497  -3.666397 -0.282844 -0.095881 -0.319605   \n",
       "         3           1.116125  -0.656101  0.333118  1.624657 -0.569962   \n",
       "         4           1.638200   1.405135  0.393875  1.187864 -0.271664   \n",
       "...                       ...        ...       ...       ...       ...   \n",
       "79       95         28.459024 -16.633770  3.631869  8.978229 -3.611533   \n",
       "         96         10.260094   0.102775  1.269261 -1.645964 -3.377157   \n",
       "         97          4.316471  -3.574319  2.063831 -1.717875 -1.843054   \n",
       "         98          0.704446  -4.920444  2.851857 -2.982977 -0.809665   \n",
       "         99         -2.074749  -6.892377  4.848379 -1.350330 -1.203844   \n",
       "\n",
       "                      gyro_3  \n",
       "trial_no timepoint            \n",
       "0        0          0.633883  \n",
       "         1          0.633883  \n",
       "         2          0.972131  \n",
       "         3          1.209171  \n",
       "         4          1.739182  \n",
       "...                      ...  \n",
       "79       95        -1.491489  \n",
       "         96         1.283746  \n",
       "         97         0.484734  \n",
       "         98        -0.721774  \n",
       "         99        -1.776470  \n",
       "\n",
       "[8000 rows x 6 columns]"
      ]
     },
     "execution_count": 10,
     "metadata": {},
     "output_type": "execute_result"
    }
   ],
   "source": [
    "X"
   ]
  },
  {
   "cell_type": "code",
   "execution_count": 12,
   "id": "3d67625a-c603-4c62-a450-f99595d36bf8",
   "metadata": {
    "collapsed": true,
    "jupyter": {
     "outputs_hidden": true
    }
   },
   "outputs": [
    {
     "data": {
      "text/html": [
       "<div>\n",
       "<style scoped>\n",
       "    .dataframe tbody tr th:only-of-type {\n",
       "        vertical-align: middle;\n",
       "    }\n",
       "\n",
       "    .dataframe tbody tr th {\n",
       "        vertical-align: top;\n",
       "    }\n",
       "\n",
       "    .dataframe thead th {\n",
       "        text-align: right;\n",
       "    }\n",
       "</style>\n",
       "<table border=\"1\" class=\"dataframe\">\n",
       "  <thead>\n",
       "    <tr style=\"text-align: right;\">\n",
       "      <th></th>\n",
       "      <th></th>\n",
       "      <th>accel_1</th>\n",
       "      <th>accel_2</th>\n",
       "      <th>accel_3</th>\n",
       "      <th>gyro_1</th>\n",
       "      <th>gyro_2</th>\n",
       "      <th>gyro_3</th>\n",
       "    </tr>\n",
       "    <tr>\n",
       "      <th>trial_no</th>\n",
       "      <th>timepoint</th>\n",
       "      <th></th>\n",
       "      <th></th>\n",
       "      <th></th>\n",
       "      <th></th>\n",
       "      <th></th>\n",
       "      <th></th>\n",
       "    </tr>\n",
       "  </thead>\n",
       "  <tbody>\n",
       "    <tr>\n",
       "      <th rowspan=\"11\" valign=\"top\">0</th>\n",
       "      <th>0</th>\n",
       "      <td>0.079106</td>\n",
       "      <td>0.394032</td>\n",
       "      <td>0.551444</td>\n",
       "      <td>0.351565</td>\n",
       "      <td>0.023970</td>\n",
       "      <td>0.633883</td>\n",
       "    </tr>\n",
       "    <tr>\n",
       "      <th>1</th>\n",
       "      <td>0.079106</td>\n",
       "      <td>0.394032</td>\n",
       "      <td>0.551444</td>\n",
       "      <td>0.351565</td>\n",
       "      <td>0.023970</td>\n",
       "      <td>0.633883</td>\n",
       "    </tr>\n",
       "    <tr>\n",
       "      <th>2</th>\n",
       "      <td>-0.903497</td>\n",
       "      <td>-3.666397</td>\n",
       "      <td>-0.282844</td>\n",
       "      <td>-0.095881</td>\n",
       "      <td>-0.319605</td>\n",
       "      <td>0.972131</td>\n",
       "    </tr>\n",
       "    <tr>\n",
       "      <th>3</th>\n",
       "      <td>1.116125</td>\n",
       "      <td>-0.656101</td>\n",
       "      <td>0.333118</td>\n",
       "      <td>1.624657</td>\n",
       "      <td>-0.569962</td>\n",
       "      <td>1.209171</td>\n",
       "    </tr>\n",
       "    <tr>\n",
       "      <th>4</th>\n",
       "      <td>1.638200</td>\n",
       "      <td>1.405135</td>\n",
       "      <td>0.393875</td>\n",
       "      <td>1.187864</td>\n",
       "      <td>-0.271664</td>\n",
       "      <td>1.739182</td>\n",
       "    </tr>\n",
       "    <tr>\n",
       "      <th>...</th>\n",
       "      <td>...</td>\n",
       "      <td>...</td>\n",
       "      <td>...</td>\n",
       "      <td>...</td>\n",
       "      <td>...</td>\n",
       "      <td>...</td>\n",
       "    </tr>\n",
       "    <tr>\n",
       "      <th>95</th>\n",
       "      <td>-0.167918</td>\n",
       "      <td>0.224085</td>\n",
       "      <td>0.039889</td>\n",
       "      <td>0.039951</td>\n",
       "      <td>-0.010653</td>\n",
       "      <td>-0.021307</td>\n",
       "    </tr>\n",
       "    <tr>\n",
       "      <th>96</th>\n",
       "      <td>-0.227670</td>\n",
       "      <td>0.118392</td>\n",
       "      <td>-0.088594</td>\n",
       "      <td>-0.029297</td>\n",
       "      <td>0.005327</td>\n",
       "      <td>-0.042614</td>\n",
       "    </tr>\n",
       "    <tr>\n",
       "      <th>97</th>\n",
       "      <td>-0.193271</td>\n",
       "      <td>0.055227</td>\n",
       "      <td>-0.041530</td>\n",
       "      <td>0.000000</td>\n",
       "      <td>-0.013317</td>\n",
       "      <td>-0.063921</td>\n",
       "    </tr>\n",
       "    <tr>\n",
       "      <th>98</th>\n",
       "      <td>-0.193271</td>\n",
       "      <td>0.055227</td>\n",
       "      <td>-0.041530</td>\n",
       "      <td>0.000000</td>\n",
       "      <td>-0.013317</td>\n",
       "      <td>-0.063921</td>\n",
       "    </tr>\n",
       "    <tr>\n",
       "      <th>99</th>\n",
       "      <td>-0.205150</td>\n",
       "      <td>-0.003390</td>\n",
       "      <td>-0.015113</td>\n",
       "      <td>-0.007990</td>\n",
       "      <td>-0.010653</td>\n",
       "      <td>-0.031960</td>\n",
       "    </tr>\n",
       "  </tbody>\n",
       "</table>\n",
       "<p>100 rows × 6 columns</p>\n",
       "</div>"
      ],
      "text/plain": [
       "                     accel_1   accel_2   accel_3    gyro_1    gyro_2    gyro_3\n",
       "trial_no timepoint                                                            \n",
       "0        0          0.079106  0.394032  0.551444  0.351565  0.023970  0.633883\n",
       "         1          0.079106  0.394032  0.551444  0.351565  0.023970  0.633883\n",
       "         2         -0.903497 -3.666397 -0.282844 -0.095881 -0.319605  0.972131\n",
       "         3          1.116125 -0.656101  0.333118  1.624657 -0.569962  1.209171\n",
       "         4          1.638200  1.405135  0.393875  1.187864 -0.271664  1.739182\n",
       "...                      ...       ...       ...       ...       ...       ...\n",
       "         95        -0.167918  0.224085  0.039889  0.039951 -0.010653 -0.021307\n",
       "         96        -0.227670  0.118392 -0.088594 -0.029297  0.005327 -0.042614\n",
       "         97        -0.193271  0.055227 -0.041530  0.000000 -0.013317 -0.063921\n",
       "         98        -0.193271  0.055227 -0.041530  0.000000 -0.013317 -0.063921\n",
       "         99        -0.205150 -0.003390 -0.015113 -0.007990 -0.010653 -0.031960\n",
       "\n",
       "[100 rows x 6 columns]"
      ]
     },
     "execution_count": 12,
     "metadata": {},
     "output_type": "execute_result"
    }
   ],
   "source": [
    "# Select:\n",
    "# * the fourth variable (gyroscope 1)\n",
    "# * of the first instance (trial 1 = 0 in python)\n",
    "# * values at all 100 timestamps\n",
    "#\n",
    "X.iloc[0:100]"
   ]
  },
  {
   "cell_type": "code",
   "execution_count": 14,
   "id": "483de364-0e1b-496b-9b12-bcc5f097b822",
   "metadata": {},
   "outputs": [
    {
     "data": {
      "text/plain": [
       "accel_1    1.886366\n",
       "accel_2   -4.779886\n",
       "accel_3   -1.279520\n",
       "gyro_1    -1.291736\n",
       "gyro_2     0.383526\n",
       "gyro_3    -2.138688\n",
       "Name: (42, 4), dtype: float64"
      ]
     },
     "execution_count": 14,
     "metadata": {},
     "output_type": "execute_result"
    }
   ],
   "source": [
    "X.loc[(42, 4)]"
   ]
  },
  {
   "cell_type": "markdown",
   "id": "b989fc3d-4243-442c-a554-570bb797cf87",
   "metadata": {},
   "source": [
    "### Indekoswanie 3D"
   ]
  },
  {
   "cell_type": "code",
   "execution_count": 22,
   "id": "3f121326-786d-4fcc-b1cd-2b48b134504e",
   "metadata": {},
   "outputs": [],
   "source": [
    "from sktime.datasets import load_basic_motions\n",
    "\n",
    "# load an example time series panel in numpy mtype\n",
    "X_train, y_train = load_basic_motions(split=\"train\", return_type=\"numpy3D\")\n",
    "X_test, y_test =  load_basic_motions(split=\"test\", return_type=\"numpy3D\")"
   ]
  },
  {
   "cell_type": "code",
   "execution_count": 23,
   "id": "fb7f9df8-f5db-4619-bc37-af9a3fd5ff18",
   "metadata": {},
   "outputs": [
    {
     "data": {
      "text/plain": [
       "(40, 6, 100)"
      ]
     },
     "execution_count": 23,
     "metadata": {},
     "output_type": "execute_result"
    }
   ],
   "source": [
    "X_train.shape"
   ]
  },
  {
   "cell_type": "code",
   "execution_count": 24,
   "id": "90584e86-7e22-4832-b0ab-5acc2eb8ca6f",
   "metadata": {},
   "outputs": [
    {
     "data": {
      "text/plain": [
       "(40,)"
      ]
     },
     "execution_count": 24,
     "metadata": {},
     "output_type": "execute_result"
    }
   ],
   "source": [
    "y_train.shape"
   ]
  },
  {
   "cell_type": "markdown",
   "id": "1acefa31-3be2-4126-a8db-fe173eaf4c7c",
   "metadata": {},
   "source": [
    "### Trenowanie KNN"
   ]
  },
  {
   "cell_type": "code",
   "execution_count": 25,
   "id": "67f34486-368b-4146-9b63-ece53d259d8f",
   "metadata": {},
   "outputs": [],
   "source": [
    "# step 3 - specify the classifier\n",
    "from sktime.classification.distance_based import KNeighborsTimeSeriesClassifier\n",
    "\n",
    "# example 1 - 3-NN with simple dynamic time warping distance (requires numba)\n",
    "clf = KNeighborsTimeSeriesClassifier(n_neighbors=3)\n",
    "\n",
    "# example 2 - custom distance:\n",
    "# 3-nearest neighbour classifier with Euclidean distance (on flattened time series)\n",
    "# (requires scipy)\n",
    "from sktime.classification.distance_based import KNeighborsTimeSeriesClassifier\n",
    "from sktime.dists_kernels import FlatDist, ScipyDist\n",
    "\n",
    "eucl_dist = FlatDist(ScipyDist())\n",
    "clf = KNeighborsTimeSeriesClassifier(n_neighbors=3, distance=eucl_dist)"
   ]
  },
  {
   "cell_type": "code",
   "execution_count": 14,
   "id": "4b5624d0-07ec-48ec-91d0-4fb298766417",
   "metadata": {},
   "outputs": [
    {
     "data": {
      "text/plain": [
       "{'algorithm': 'brute',\n",
       " 'distance': FlatDist(transformer=ScipyDist()),\n",
       " 'distance_mtype': None,\n",
       " 'distance_params': None,\n",
       " 'leaf_size': 30,\n",
       " 'n_jobs': None,\n",
       " 'n_neighbors': 3,\n",
       " 'pass_train_distances': False,\n",
       " 'weights': 'uniform',\n",
       " 'distance__transformer': ScipyDist(),\n",
       " 'distance__transformer__colalign': 'intersect',\n",
       " 'distance__transformer__metric': 'euclidean',\n",
       " 'distance__transformer__metric_kwargs': None,\n",
       " 'distance__transformer__p': 2,\n",
       " 'distance__transformer__var_weights': None}"
      ]
     },
     "execution_count": 14,
     "metadata": {},
     "output_type": "execute_result"
    }
   ],
   "source": [
    "# all classifiers is scikit-learn / scikit-base compatible!\n",
    "# nested parameter interface via get_params, set_params\n",
    "clf.get_params()"
   ]
  },
  {
   "cell_type": "code",
   "execution_count": 15,
   "id": "892301bf-ed39-4f7d-8033-39df32598280",
   "metadata": {},
   "outputs": [
    {
     "data": {
      "text/html": [
       "<style>#sk-59485d85-0ffa-4a3c-965d-95777eb9e823 {color: black;background-color: white;}#sk-59485d85-0ffa-4a3c-965d-95777eb9e823 pre{padding: 0;}#sk-59485d85-0ffa-4a3c-965d-95777eb9e823 div.sk-toggleable {background-color: white;}#sk-59485d85-0ffa-4a3c-965d-95777eb9e823 label.sk-toggleable__label {cursor: pointer;display: block;width: 100%;margin-bottom: 0;padding: 0.3em;box-sizing: border-box;text-align: center;}#sk-59485d85-0ffa-4a3c-965d-95777eb9e823 label.sk-toggleable__label-arrow:before {content: \"▸\";float: left;margin-right: 0.25em;color: #696969;}#sk-59485d85-0ffa-4a3c-965d-95777eb9e823 label.sk-toggleable__label-arrow:hover:before {color: black;}#sk-59485d85-0ffa-4a3c-965d-95777eb9e823 div.sk-estimator:hover label.sk-toggleable__label-arrow:before {color: black;}#sk-59485d85-0ffa-4a3c-965d-95777eb9e823 div.sk-toggleable__content {max-height: 0;max-width: 0;overflow: hidden;text-align: left;background-color: #f0f8ff;}#sk-59485d85-0ffa-4a3c-965d-95777eb9e823 div.sk-toggleable__content pre {margin: 0.2em;color: black;border-radius: 0.25em;background-color: #f0f8ff;}#sk-59485d85-0ffa-4a3c-965d-95777eb9e823 input.sk-toggleable__control:checked~div.sk-toggleable__content {max-height: 200px;max-width: 100%;overflow: auto;}#sk-59485d85-0ffa-4a3c-965d-95777eb9e823 input.sk-toggleable__control:checked~label.sk-toggleable__label-arrow:before {content: \"▾\";}#sk-59485d85-0ffa-4a3c-965d-95777eb9e823 div.sk-estimator input.sk-toggleable__control:checked~label.sk-toggleable__label {background-color: #d4ebff;}#sk-59485d85-0ffa-4a3c-965d-95777eb9e823 div.sk-label input.sk-toggleable__control:checked~label.sk-toggleable__label {background-color: #d4ebff;}#sk-59485d85-0ffa-4a3c-965d-95777eb9e823 input.sk-hidden--visually {border: 0;clip: rect(1px 1px 1px 1px);clip: rect(1px, 1px, 1px, 1px);height: 1px;margin: -1px;overflow: hidden;padding: 0;position: absolute;width: 1px;}#sk-59485d85-0ffa-4a3c-965d-95777eb9e823 div.sk-estimator {font-family: monospace;background-color: #f0f8ff;border: 1px dotted black;border-radius: 0.25em;box-sizing: border-box;margin-bottom: 0.5em;}#sk-59485d85-0ffa-4a3c-965d-95777eb9e823 div.sk-estimator:hover {background-color: #d4ebff;}#sk-59485d85-0ffa-4a3c-965d-95777eb9e823 div.sk-parallel-item::after {content: \"\";width: 100%;border-bottom: 1px solid gray;flex-grow: 1;}#sk-59485d85-0ffa-4a3c-965d-95777eb9e823 div.sk-label:hover label.sk-toggleable__label {background-color: #d4ebff;}#sk-59485d85-0ffa-4a3c-965d-95777eb9e823 div.sk-serial::before {content: \"\";position: absolute;border-left: 1px solid gray;box-sizing: border-box;top: 2em;bottom: 0;left: 50%;}#sk-59485d85-0ffa-4a3c-965d-95777eb9e823 div.sk-serial {display: flex;flex-direction: column;align-items: center;background-color: white;padding-right: 0.2em;padding-left: 0.2em;}#sk-59485d85-0ffa-4a3c-965d-95777eb9e823 div.sk-item {z-index: 1;}#sk-59485d85-0ffa-4a3c-965d-95777eb9e823 div.sk-parallel {display: flex;align-items: stretch;justify-content: center;background-color: white;}#sk-59485d85-0ffa-4a3c-965d-95777eb9e823 div.sk-parallel::before {content: \"\";position: absolute;border-left: 1px solid gray;box-sizing: border-box;top: 2em;bottom: 0;left: 50%;}#sk-59485d85-0ffa-4a3c-965d-95777eb9e823 div.sk-parallel-item {display: flex;flex-direction: column;position: relative;background-color: white;}#sk-59485d85-0ffa-4a3c-965d-95777eb9e823 div.sk-parallel-item:first-child::after {align-self: flex-end;width: 50%;}#sk-59485d85-0ffa-4a3c-965d-95777eb9e823 div.sk-parallel-item:last-child::after {align-self: flex-start;width: 50%;}#sk-59485d85-0ffa-4a3c-965d-95777eb9e823 div.sk-parallel-item:only-child::after {width: 0;}#sk-59485d85-0ffa-4a3c-965d-95777eb9e823 div.sk-dashed-wrapped {border: 1px dashed gray;margin: 0 0.4em 0.5em 0.4em;box-sizing: border-box;padding-bottom: 0.4em;background-color: white;position: relative;}#sk-59485d85-0ffa-4a3c-965d-95777eb9e823 div.sk-label label {font-family: monospace;font-weight: bold;background-color: white;display: inline-block;line-height: 1.2em;}#sk-59485d85-0ffa-4a3c-965d-95777eb9e823 div.sk-label-container {position: relative;z-index: 2;text-align: center;}#sk-59485d85-0ffa-4a3c-965d-95777eb9e823 div.sk-container {/* jupyter's `normalize.less` sets `[hidden] { display: none; }` but bootstrap.min.css set `[hidden] { display: none !important; }` so we also need the `!important` here to be able to override the default hidden behavior on the sphinx rendered scikit-learn.org. See: https://github.com/scikit-learn/scikit-learn/issues/21755 */display: inline-block !important;position: relative;}#sk-59485d85-0ffa-4a3c-965d-95777eb9e823 div.sk-text-repr-fallback {display: none;}</style><div id='sk-59485d85-0ffa-4a3c-965d-95777eb9e823' class=\"sk-top-container\"><div class=\"sk-text-repr-fallback\"><pre>KNeighborsTimeSeriesClassifier(distance=FlatDist(transformer=ScipyDist()),\n",
       "                               n_neighbors=3)</pre><b>Please rerun this cell to show the HTML repr or trust the notebook.</b></div><div class=\"sk-container\" hidden><div class=\"sk-item sk-dashed-wrapped\"><div class='sk-label-container'><div class=\"sk-label sk-toggleable\"><input class=\"sk-toggleable__control sk-hidden--visually\" id=UUID('ecd98c27-7f1c-48a8-b712-e0c5e60a1911') type=\"checkbox\" ><label for=UUID('ecd98c27-7f1c-48a8-b712-e0c5e60a1911') class='sk-toggleable__label sk-toggleable__label-arrow'>KNeighborsTimeSeriesClassifier</label><div class=\"sk-toggleable__content\"><pre>KNeighborsTimeSeriesClassifier(distance=FlatDist(transformer=ScipyDist()),\n",
       "                               n_neighbors=3)</pre></div></div></div><div class=\"sk-parallel\"><div class=\"sk-parallel-item\"><div class=\"sk-item\"><div class=\"sk-serial\"><div class=\"sk-item sk-dashed-wrapped\"><div class=\"sk-parallel\"><div class=\"sk-parallel-item\"><div class=\"sk-item\"><div class=\"sk-serial\"><div class='sk-item'><div class=\"sk-estimator sk-toggleable\"><input class=\"sk-toggleable__control sk-hidden--visually\" id=UUID('473b30cb-57fc-4019-afe4-2e3e20c690d1') type=\"checkbox\" ><label for=UUID('473b30cb-57fc-4019-afe4-2e3e20c690d1') class='sk-toggleable__label sk-toggleable__label-arrow'>ScipyDist</label><div class=\"sk-toggleable__content\"><pre>ScipyDist()</pre></div></div></div></div></div></div></div></div></div></div></div></div></div></div></div>"
      ],
      "text/plain": [
       "KNeighborsTimeSeriesClassifier(distance=FlatDist(transformer=ScipyDist()),\n",
       "                               n_neighbors=3)"
      ]
     },
     "execution_count": 15,
     "metadata": {},
     "output_type": "execute_result"
    }
   ],
   "source": [
    "# step 4 - fit/train the classifier\n",
    "clf.fit(X_train, y_train)"
   ]
  },
  {
   "cell_type": "code",
   "execution_count": 16,
   "id": "e86e8b18-84ad-464a-bb61-3f10650898a7",
   "metadata": {},
   "outputs": [
    {
     "data": {
      "text/plain": [
       "True"
      ]
     },
     "execution_count": 16,
     "metadata": {},
     "output_type": "execute_result"
    }
   ],
   "source": [
    "# the classifier is now fitted\n",
    "clf.is_fitted"
   ]
  },
  {
   "cell_type": "code",
   "execution_count": 17,
   "id": "717055c6-dc12-4f6f-a6c6-0c7c210d6fb3",
   "metadata": {},
   "outputs": [
    {
     "name": "stdout",
     "output_type": "stream",
     "text": [
      "['standing' 'standing' 'standing' 'standing' 'standing' 'standing'\n",
      " 'standing' 'standing' 'standing' 'standing' 'running' 'running' 'running'\n",
      " 'standing' 'running' 'standing' 'walking' 'standing' 'running' 'walking'\n",
      " 'walking' 'standing' 'walking' 'walking' 'standing' 'standing' 'walking'\n",
      " 'walking' 'walking' 'walking' 'standing' 'standing' 'walking' 'standing'\n",
      " 'standing' 'walking' 'standing' 'standing' 'walking' 'standing']\n"
     ]
    }
   ],
   "source": [
    "# step 5 - predict labels on new data\n",
    "y_pred = clf.predict(X_test)\n",
    "print(y_pred)"
   ]
  },
  {
   "cell_type": "code",
   "execution_count": 18,
   "id": "d4c6d233-6ada-4e3a-824a-3134466807ef",
   "metadata": {},
   "outputs": [
    {
     "data": {
      "text/plain": [
       "array(['standing', 'standing', 'standing', 'standing', 'standing',\n",
       "       'standing', 'standing', 'standing', 'standing', 'standing',\n",
       "       'running', 'running', 'running', 'running', 'running', 'running',\n",
       "       'running', 'running', 'running', 'running', 'walking', 'walking',\n",
       "       'walking', 'walking', 'walking', 'walking', 'walking', 'walking',\n",
       "       'walking', 'walking', 'badminton', 'badminton', 'badminton',\n",
       "       'badminton', 'badminton', 'badminton', 'badminton', 'badminton',\n",
       "       'badminton', 'badminton'], dtype='<U9')"
      ]
     },
     "execution_count": 18,
     "metadata": {},
     "output_type": "execute_result"
    }
   ],
   "source": [
    "y_test"
   ]
  },
  {
   "cell_type": "markdown",
   "id": "c0437b43-36d4-4b96-8d46-633abeb59a40",
   "metadata": {},
   "source": [
    "### Trenowanie Fuzzy c-means"
   ]
  },
  {
   "cell_type": "code",
   "execution_count": 39,
   "id": "9576f93b-040f-4330-a788-ed1e2001b552",
   "metadata": {},
   "outputs": [],
   "source": [
    "from sklearn.preprocessing import StandardScaler\n",
    "from skfuzzy.cluster import cmeans\n",
    "from sklearn.metrics import pairwise_distances_argmin_min\n",
    "from sktime.datasets import load_basic_motions\n",
    "from sklearn.decomposition import PCA\n",
    "\n",
    "import numpy as np\n",
    "import matplotlib.pyplot as plt"
   ]
  },
  {
   "cell_type": "code",
   "execution_count": 5,
   "id": "472724bc-ebdf-46af-a03c-57b0cbab1d52",
   "metadata": {},
   "outputs": [],
   "source": [
    "# load an example time series panel in numpy mtype Numpy 2D\n",
    "X_train, y_train = load_basic_motions(split=\"train\", return_type=\"numpy2D\")\n",
    "X_test, y_test =  load_basic_motions(split=\"test\", return_type=\"numpy2D\")"
   ]
  },
  {
   "cell_type": "code",
   "execution_count": 28,
   "id": "8542e9d5-a489-410b-b6f9-1aab95bc09a8",
   "metadata": {},
   "outputs": [],
   "source": [
    "# load an example time series panel in numpy mtype Numpy 3D\n",
    "X_train, y_train = load_basic_motions(split=\"train\", return_type=\"numpy3D\")\n",
    "X_test, y_test =  load_basic_motions(split=\"test\", return_type=\"numpy3D\")"
   ]
  },
  {
   "cell_type": "code",
   "execution_count": 29,
   "id": "35622391-7b2d-4051-81e8-51b94a1aedf9",
   "metadata": {},
   "outputs": [],
   "source": [
    "X_train = X_train.reshape(-1,6)\n",
    "X_test = X_test.reshape(-1,6)"
   ]
  },
  {
   "cell_type": "code",
   "execution_count": 73,
   "id": "016275cb-11b8-4671-911b-6bfc62c9abf2",
   "metadata": {},
   "outputs": [],
   "source": [
    "# Dzielenie data_reshaped na różne części rozmiaru (1000, 6)\n",
    "chunk_size = 1000\n",
    "chunks = [X_train[i:i + chunk_size] for i in range(0, X_train.shape[0], chunk_size)]"
   ]
  },
  {
   "cell_type": "code",
   "execution_count": 74,
   "id": "9cd5f41d-b8c2-4838-8d51-8d4da1fbeb14",
   "metadata": {},
   "outputs": [
    {
     "name": "stdout",
     "output_type": "stream",
     "text": [
      "(4000, 6)\n",
      "(40,)\n",
      "4\n"
     ]
    }
   ],
   "source": [
    "print(X_train.shape)\n",
    "print(y_train.shape)\n",
    "n_clusters = len(np.unique(y_train))  # Liczba klas\n",
    "print(n_clusters)"
   ]
  },
  {
   "cell_type": "code",
   "execution_count": 75,
   "id": "ea5c35bc-cb87-4801-80b7-7654ccfc356b",
   "metadata": {},
   "outputs": [
    {
     "name": "stdout",
     "output_type": "stream",
     "text": [
      "(1000, 6)\n"
     ]
    }
   ],
   "source": [
    "# Chunks to lista składająca się z 4 (X_train.shape[0] / chunk_size) tablic rozmiaru:\n",
    "print(chunks[0].shape)"
   ]
  },
  {
   "cell_type": "code",
   "execution_count": 76,
   "id": "746ed70c-f54c-4ba2-8e61-ddaa2e09210f",
   "metadata": {},
   "outputs": [],
   "source": [
    "# Funkcja do trenowania modelu Fuzzy C-Means\n",
    "def first_train_fuzzy_c_means(X_train, n_clusters):\n",
    "    # Trenowanie modelu Fuzzy C-Means\n",
    "    cntr, u, u0, d, jm, p, fpc = cmeans(X_train, c=4, m=2, error=0.005, maxiter=1000, init=None)\n",
    " \n",
    "    return cntr, u\n",
    "\n",
    "\n",
    "# Funkcja do trenowania modelu Fuzzy C-Means\n",
    "def another_train_fuzzy_c_means(X_train, n_clusters, prev_cntr):\n",
    "    # Trenowanie modelu Fuzzy C-Means\n",
    "    cntr, u, u0, d, jm, p, fpc = cmeans(X_train, c=4, m=2, error=0.005, maxiter=1000, init=prev_cntr)\n",
    " \n",
    "    return cntr, u\n",
    "\n",
    "# Funkcja do predykcji klas za pomocą Fuzzy C-Means\n",
    "def predict_fuzzy_c_means(X_test, cntr):\n",
    "    # Obliczanie odległości i przypisywanie klas\n",
    "    labels, _ = pairwise_distances_argmin_min(X_test, cntr)\n",
    "    \n",
    "    return labels\n",
    "\n",
    "def visualize_clusters(X, cntr):\n",
    "    # Redukcja wymiarowości za pomocą PCA do 2 wymiarów\n",
    "    pca = PCA(n_components=2)\n",
    "    data_pca = pca.fit_transform(X)\n",
    "\n",
    "    # Redukcja wymiarowości centrów klastrów\n",
    "    cntr_pca = pca.transform(cntr)\n",
    "\n",
    "    # Wizualizacja klastrów\n",
    "    plt.figure(figsize=(10, 8))\n",
    "    for i in range(n_clusters):\n",
    "        plt.scatter(data_pca[cluster_labels == i, 0], data_pca[cluster_labels == i, 1], label=f'Cluster {i+1}')\n",
    "\n",
    "    # Dodanie centrów klastrów do wykresu\n",
    "    plt.scatter(cntr_pca[:, 0], cntr_pca[:, 1], marker='x', s=200, c='black', label='Cluster Centers')\n",
    "\n",
    "    plt.title('Fuzzy C-Means Clustering (PCA Reduced Data)')\n",
    "    plt.xlabel('Principal Component 1')\n",
    "    plt.ylabel('Principal Component 2')\n",
    "    plt.legend()\n",
    "    plt.show()"
   ]
  },
  {
   "cell_type": "code",
   "execution_count": 77,
   "id": "4fe22f4d-1e6f-4722-b00e-cb1d4f79f063",
   "metadata": {},
   "outputs": [],
   "source": [
    "first_chunk = chunks[0]"
   ]
  },
  {
   "cell_type": "code",
   "execution_count": 95,
   "id": "9f5b9d64-67d0-406e-87ed-0763f61f16f3",
   "metadata": {},
   "outputs": [
    {
     "name": "stdout",
     "output_type": "stream",
     "text": [
      "Predicted labels: [2 0 3 ... 3 2 3]\n"
     ]
    }
   ],
   "source": [
    "# Pierwsze trenowanie modelu\n",
    "cntr, u = first_train_fuzzy_c_means(first_chunk.T, n_clusters)\n",
    "\n",
    "# Przypisanie każdej próbki do klastra\n",
    "cluster_labels = np.argmax(u, axis=0)\n",
    "\n",
    "# Predykcja\n",
    "y_pred = predict_fuzzy_c_means(X_test, cntr)\n",
    "\n",
    "print(\"Predicted labels:\", y_pred)"
   ]
  },
  {
   "cell_type": "code",
   "execution_count": 96,
   "id": "c6334cb5-4f16-43fc-8d50-da6f960d77af",
   "metadata": {},
   "outputs": [
    {
     "data": {
      "image/png": "[encoded data removed]",
      "text/plain": [
       "<Figure size 1000x800 with 1 Axes>"
      ]
     },
     "metadata": {},
     "output_type": "display_data"
    }
   ],
   "source": [
    "visualize_clusters(first_chunk,cntr)"
   ]
  },
  {
   "cell_type": "code",
   "execution_count": 97,
   "id": "e8c70e02-d753-4f93-a440-7f36f6846598",
   "metadata": {},
   "outputs": [
    {
     "name": "stdout",
     "output_type": "stream",
     "text": [
      "Przetwarzamy chunk  1\n",
      "(1000, 6)\n"
     ]
    },
    {
     "ename": "ValueError",
     "evalue": "shapes (4,6) and (1000,6) not aligned: 6 (dim 1) != 1000 (dim 0)",
     "output_type": "error",
     "traceback": [
      "\u001b[1;31m---------------------------------------------------------------\u001b[0m",
      "\u001b[1;31mValueError\u001b[0m                    Traceback (most recent call last)",
      "Cell \u001b[1;32mIn[97], line 8\u001b[0m\n\u001b[0;32m      6\u001b[0m \u001b[38;5;28mprint\u001b[39m(\u001b[38;5;124m\"\u001b[39m\u001b[38;5;124mPrzetwarzamy chunk \u001b[39m\u001b[38;5;124m\"\u001b[39m, count)\n\u001b[0;32m      7\u001b[0m \u001b[38;5;28mprint\u001b[39m(chunk\u001b[38;5;241m.\u001b[39mshape)\n\u001b[1;32m----> 8\u001b[0m cntr, u \u001b[38;5;241m=\u001b[39m \u001b[43manother_train_fuzzy_c_means\u001b[49m\u001b[43m(\u001b[49m\u001b[43mchunk\u001b[49m\u001b[38;5;241;43m.\u001b[39;49m\u001b[43mT\u001b[49m\u001b[43m,\u001b[49m\u001b[43m \u001b[49m\u001b[43mn_clusters\u001b[49m\u001b[43m,\u001b[49m\u001b[43m \u001b[49m\u001b[43mcntr\u001b[49m\u001b[43m)\u001b[49m\n\u001b[0;32m      9\u001b[0m visualize_clusters(chunk, cntr)\n",
      "Cell \u001b[1;32mIn[76], line 12\u001b[0m, in \u001b[0;36manother_train_fuzzy_c_means\u001b[1;34m(X_train, n_clusters, prev_cntr)\u001b[0m\n\u001b[0;32m     10\u001b[0m \u001b[38;5;28;01mdef\u001b[39;00m \u001b[38;5;21manother_train_fuzzy_c_means\u001b[39m(X_train, n_clusters, prev_cntr):\n\u001b[0;32m     11\u001b[0m     \u001b[38;5;66;03m# Trenowanie modelu Fuzzy C-Means\u001b[39;00m\n\u001b[1;32m---> 12\u001b[0m     cntr, u, u0, d, jm, p, fpc \u001b[38;5;241m=\u001b[39m \u001b[43mcmeans\u001b[49m\u001b[43m(\u001b[49m\u001b[43mX_train\u001b[49m\u001b[43m,\u001b[49m\u001b[43m \u001b[49m\u001b[43mc\u001b[49m\u001b[38;5;241;43m=\u001b[39;49m\u001b[38;5;241;43m4\u001b[39;49m\u001b[43m,\u001b[49m\u001b[43m \u001b[49m\u001b[43mm\u001b[49m\u001b[38;5;241;43m=\u001b[39;49m\u001b[38;5;241;43m2\u001b[39;49m\u001b[43m,\u001b[49m\u001b[43m \u001b[49m\u001b[43merror\u001b[49m\u001b[38;5;241;43m=\u001b[39;49m\u001b[38;5;241;43m0.005\u001b[39;49m\u001b[43m,\u001b[49m\u001b[43m \u001b[49m\u001b[43mmaxiter\u001b[49m\u001b[38;5;241;43m=\u001b[39;49m\u001b[38;5;241;43m1000\u001b[39;49m\u001b[43m,\u001b[49m\u001b[43m \u001b[49m\u001b[43minit\u001b[49m\u001b[38;5;241;43m=\u001b[39;49m\u001b[43mprev_cntr\u001b[49m\u001b[43m)\u001b[49m\n\u001b[0;32m     14\u001b[0m     \u001b[38;5;28;01mreturn\u001b[39;00m cntr, u\n",
      "File \u001b[1;32m~\\AppData\\Local\\Programs\\Python\\Python311\\Lib\\site-packages\\skfuzzy\\cluster\\_cmeans.py:170\u001b[0m, in \u001b[0;36mcmeans\u001b[1;34m(data, c, m, error, maxiter, metric, init, seed)\u001b[0m\n\u001b[0;32m    168\u001b[0m \u001b[38;5;28;01mwhile\u001b[39;00m p \u001b[38;5;241m<\u001b[39m maxiter \u001b[38;5;241m-\u001b[39m \u001b[38;5;241m1\u001b[39m:\n\u001b[0;32m    169\u001b[0m     u2 \u001b[38;5;241m=\u001b[39m u\u001b[38;5;241m.\u001b[39mcopy()\n\u001b[1;32m--> 170\u001b[0m     [cntr, u, Jjm, d] \u001b[38;5;241m=\u001b[39m \u001b[43m_cmeans0\u001b[49m\u001b[43m(\u001b[49m\u001b[43mdata\u001b[49m\u001b[43m,\u001b[49m\u001b[43m \u001b[49m\u001b[43mu2\u001b[49m\u001b[43m,\u001b[49m\u001b[43m \u001b[49m\u001b[43mc\u001b[49m\u001b[43m,\u001b[49m\u001b[43m \u001b[49m\u001b[43mm\u001b[49m\u001b[43m,\u001b[49m\u001b[43m \u001b[49m\u001b[43mmetric\u001b[49m\u001b[43m)\u001b[49m\n\u001b[0;32m    171\u001b[0m     jm \u001b[38;5;241m=\u001b[39m np\u001b[38;5;241m.\u001b[39mhstack((jm, Jjm))\n\u001b[0;32m    172\u001b[0m     p \u001b[38;5;241m+\u001b[39m\u001b[38;5;241m=\u001b[39m \u001b[38;5;241m1\u001b[39m\n",
      "File \u001b[1;32m~\\AppData\\Local\\Programs\\Python\\Python311\\Lib\\site-packages\\skfuzzy\\cluster\\_cmeans.py:26\u001b[0m, in \u001b[0;36m_cmeans0\u001b[1;34m(data, u_old, c, m, metric)\u001b[0m\n\u001b[0;32m     24\u001b[0m \u001b[38;5;66;03m# Calculate cluster centers\u001b[39;00m\n\u001b[0;32m     25\u001b[0m data \u001b[38;5;241m=\u001b[39m data\u001b[38;5;241m.\u001b[39mT\n\u001b[1;32m---> 26\u001b[0m cntr \u001b[38;5;241m=\u001b[39m um\u001b[38;5;241m.\u001b[39mdot(data) \u001b[38;5;241m/\u001b[39m np\u001b[38;5;241m.\u001b[39matleast_2d(um\u001b[38;5;241m.\u001b[39msum(axis\u001b[38;5;241m=\u001b[39m\u001b[38;5;241m1\u001b[39m))\u001b[38;5;241m.\u001b[39mT\n\u001b[0;32m     28\u001b[0m d \u001b[38;5;241m=\u001b[39m _distance(data, cntr, metric)\n\u001b[0;32m     29\u001b[0m d \u001b[38;5;241m=\u001b[39m np\u001b[38;5;241m.\u001b[39mfmax(d, np\u001b[38;5;241m.\u001b[39mfinfo(np\u001b[38;5;241m.\u001b[39mfloat64)\u001b[38;5;241m.\u001b[39meps)\n",
      "\u001b[1;31mValueError\u001b[0m: shapes (4,6) and (1000,6) not aligned: 6 (dim 1) != 1000 (dim 0)"
     ]
    }
   ],
   "source": [
    "# Kolejne trenowanie modelu\n",
    "\n",
    "for count, chunk in enumerate(chunks):\n",
    "    if count == 0:\n",
    "        continue\n",
    "    print(\"Przetwarzamy chunk \", count)\n",
    "    print(chunk.shape)\n",
    "    cntr, u = another_train_fuzzy_c_means(chunk.T, n_clusters, cntr)\n",
    "    visualize_clusters(chunk, cntr)"
   ]
  },
  {
   "cell_type": "code",
   "execution_count": 12,
   "id": "07e5cd25-41df-4fc6-a3e3-c264b32bc614",
   "metadata": {},
   "outputs": [
    {
     "data": {
      "text/plain": [
       "(4, 600)"
      ]
     },
     "execution_count": 12,
     "metadata": {},
     "output_type": "execute_result"
    }
   ],
   "source": [
    "cntr.shape"
   ]
  },
  {
   "cell_type": "markdown",
   "id": "b65f9aec-c5c1-4c84-85c5-5f82cae96614",
   "metadata": {},
   "source": [
    "### Trenowanie RocketClassifier"
   ]
  },
  {
   "cell_type": "code",
   "execution_count": 3,
   "id": "bec7a689-be6f-44fa-8eb3-78dc6bef0267",
   "metadata": {},
   "outputs": [
    {
     "name": "stdout",
     "output_type": "stream",
     "text": [
      "<class 'numpy.ndarray'>\n",
      "(40, 6, 100) (40,) (40, 6, 100) (40,)\n"
     ]
    },
    {
     "data": {
      "text/plain": [
       "[<matplotlib.lines.Line2D at 0x27d086b4550>]"
      ]
     },
     "execution_count": 3,
     "metadata": {},
     "output_type": "execute_result"
    },
    {
     "data": {
      "image/png": "[encoded data removed]",
      "text/plain": [
       "<Figure size 640x480 with 1 Axes>"
      ]
     },
     "metadata": {},
     "output_type": "display_data"
    }
   ],
   "source": [
    "# \"basic motions\" dataset\n",
    "from sktime.datasets import load_basic_motions\n",
    "\n",
    "motions_X, motions_Y = load_basic_motions(return_type=\"numpy3d\")\n",
    "motions_train_X, motions_train_y = load_basic_motions(\n",
    "    split=\"train\", return_type=\"numpy3d\"\n",
    ")\n",
    "motions_test_X, motions_test_y = load_basic_motions(split=\"test\", return_type=\"numpy3d\")\n",
    "print(type(motions_train_X))\n",
    "print(\n",
    "    motions_train_X.shape,\n",
    "    motions_train_y.shape,\n",
    "    motions_test_X.shape,\n",
    "    motions_test_y.shape,\n",
    ")\n",
    "plt.title(\" First and second dimensions of the first instance in BasicMotions data\")\n",
    "plt.plot(motions_train_X[0][0])\n",
    "plt.plot(motions_train_X[0][1])"
   ]
  },
  {
   "cell_type": "code",
   "execution_count": 8,
   "id": "87af9761-0abe-4d5f-b22e-e98bb33e2f2b",
   "metadata": {},
   "outputs": [
    {
     "data": {
      "text/plain": [
       "0.925"
      ]
     },
     "execution_count": 8,
     "metadata": {},
     "output_type": "execute_result"
    }
   ],
   "source": [
    "from sktime.classification.kernel_based import RocketClassifier\n",
    "from sklearn.metrics import accuracy_score\n",
    "\n",
    "rocket = RocketClassifier(num_kernels=20)\n",
    "rocket.fit(motions_train_X, motions_train_y)\n",
    "y_pred = rocket.predict(motions_test_X)\n",
    "\n",
    "accuracy_score(motions_test_y, y_pred)"
   ]
  },
  {
   "cell_type": "code",
   "execution_count": 14,
   "id": "b52876bf-d932-48cc-b912-a0d509e1b2ff",
   "metadata": {},
   "outputs": [
    {
     "data": {
      "text/plain": [
       "(40, 6, 100)"
      ]
     },
     "execution_count": 14,
     "metadata": {},
     "output_type": "execute_result"
    }
   ],
   "source": [
    "motions_test_X.shape"
   ]
  },
  {
   "cell_type": "code",
   "execution_count": 9,
   "id": "4ef0aec2-cd01-457a-a7f9-a053fe6c83aa",
   "metadata": {},
   "outputs": [
    {
     "data": {
      "text/plain": [
       "array(['standing', 'standing', 'standing', 'standing', 'standing',\n",
       "       'standing', 'standing', 'standing', 'standing', 'standing',\n",
       "       'running', 'running', 'running', 'running', 'running', 'running',\n",
       "       'running', 'running', 'running', 'running', 'walking', 'walking',\n",
       "       'walking', 'walking', 'walking', 'walking', 'walking', 'walking',\n",
       "       'walking', 'walking', 'badminton', 'badminton', 'badminton',\n",
       "       'badminton', 'badminton', 'badminton', 'badminton', 'badminton',\n",
       "       'badminton', 'badminton'], dtype='<U9')"
      ]
     },
     "execution_count": 9,
     "metadata": {},
     "output_type": "execute_result"
    }
   ],
   "source": [
    "motions_test_y"
   ]
  },
  {
   "cell_type": "code",
   "execution_count": 10,
   "id": "624b0c04-b4a5-4f85-b322-6f2a4969ff91",
   "metadata": {},
   "outputs": [
    {
     "data": {
      "text/plain": [
       "array(['badminton', 'standing', 'standing', 'standing', 'standing',\n",
       "       'standing', 'standing', 'walking', 'badminton', 'standing',\n",
       "       'running', 'running', 'running', 'running', 'running', 'running',\n",
       "       'running', 'running', 'running', 'running', 'walking', 'walking',\n",
       "       'walking', 'walking', 'walking', 'walking', 'walking', 'walking',\n",
       "       'walking', 'walking', 'badminton', 'badminton', 'badminton',\n",
       "       'badminton', 'badminton', 'badminton', 'badminton', 'badminton',\n",
       "       'badminton', 'badminton'], dtype='<U9')"
      ]
     },
     "execution_count": 10,
     "metadata": {},
     "output_type": "execute_result"
    }
   ],
   "source": [
    "y_pred"
   ]
  },
  {
   "cell_type": "markdown",
   "id": "90d5fea0-c69b-424c-bf1e-4dec7baa95b3",
   "metadata": {},
   "source": [
    "### Testowanie DrCIF i ColumnConcatenator\n",
    "\n",
    "Konkatenacje wielu zmiennych w jeden długi ciąg jednej zmiennej"
   ]
  },
  {
   "cell_type": "code",
   "execution_count": 16,
   "id": "ab801a63-738d-4a62-8cce-369480699bc2",
   "metadata": {
    "collapsed": true,
    "jupyter": {
     "outputs_hidden": true
    },
    "scrolled": true
   },
   "outputs": [
    {
     "name": "stderr",
     "output_type": "stream",
     "text": [
      "C:\\Users\\kubak\\AppData\\Local\\Programs\\Python\\Python311\\Lib\\site-packages\\sktime\\transformations\\panel\\catch22.py:338: FutureWarning: In Catch22._transform_single_feature, the argument case_id is deprecated and will be removed in the future.\n",
      "  warn(\n",
      "C:\\Users\\kubak\\AppData\\Local\\Programs\\Python\\Python311\\Lib\\site-packages\\sktime\\transformations\\panel\\catch22.py:338: FutureWarning: In Catch22._transform_single_feature, the argument case_id is deprecated and will be removed in the future.\n",
      "  warn(\n",
      "C:\\Users\\kubak\\AppData\\Local\\Programs\\Python\\Python311\\Lib\\site-packages\\sktime\\transformations\\panel\\catch22.py:338: FutureWarning: In Catch22._transform_single_feature, the argument case_id is deprecated and will be removed in the future.\n",
      "  warn(\n",
      "C:\\Users\\kubak\\AppData\\Local\\Programs\\Python\\Python311\\Lib\\site-packages\\sktime\\transformations\\panel\\catch22.py:338: FutureWarning: In Catch22._transform_single_feature, the argument case_id is deprecated and will be removed in the future.\n",
      "  warn(\n",
      "C:\\Users\\kubak\\AppData\\Local\\Programs\\Python\\Python311\\Lib\\site-packages\\sktime\\transformations\\panel\\catch22.py:338: FutureWarning: In Catch22._transform_single_feature, the argument case_id is deprecated and will be removed in the future.\n",
      "  warn(\n",
      "C:\\Users\\kubak\\AppData\\Local\\Programs\\Python\\Python311\\Lib\\site-packages\\sktime\\transformations\\panel\\catch22.py:338: FutureWarning: In Catch22._transform_single_feature, the argument case_id is deprecated and will be removed in the future.\n",
      "  warn(\n",
      "C:\\Users\\kubak\\AppData\\Local\\Programs\\Python\\Python311\\Lib\\site-packages\\sktime\\transformations\\panel\\catch22.py:338: FutureWarning: In Catch22._transform_single_feature, the argument case_id is deprecated and will be removed in the future.\n",
      "  warn(\n",
      "C:\\Users\\kubak\\AppData\\Local\\Programs\\Python\\Python311\\Lib\\site-packages\\sktime\\transformations\\panel\\catch22.py:338: FutureWarning: In Catch22._transform_single_feature, the argument case_id is deprecated and will be removed in the future.\n",
      "  warn(\n",
      "C:\\Users\\kubak\\AppData\\Local\\Programs\\Python\\Python311\\Lib\\site-packages\\sktime\\transformations\\panel\\catch22.py:338: FutureWarning: In Catch22._transform_single_feature, the argument case_id is deprecated and will be removed in the future.\n",
      "  warn(\n",
      "C:\\Users\\kubak\\AppData\\Local\\Programs\\Python\\Python311\\Lib\\site-packages\\sktime\\transformations\\panel\\catch22.py:338: FutureWarning: In Catch22._transform_single_feature, the argument case_id is deprecated and will be removed in the future.\n",
      "  warn(\n",
      "C:\\Users\\kubak\\AppData\\Local\\Programs\\Python\\Python311\\Lib\\site-packages\\sktime\\transformations\\panel\\catch22.py:338: FutureWarning: In Catch22._transform_single_feature, the argument case_id is deprecated and will be removed in the future.\n",
      "  warn(\n",
      "C:\\Users\\kubak\\AppData\\Local\\Programs\\Python\\Python311\\Lib\\site-packages\\sktime\\transformations\\panel\\catch22.py:338: FutureWarning: In Catch22._transform_single_feature, the argument case_id is deprecated and will be removed in the future.\n",
      "  warn(\n",
      "C:\\Users\\kubak\\AppData\\Local\\Programs\\Python\\Python311\\Lib\\site-packages\\sktime\\transformations\\panel\\catch22.py:338: FutureWarning: In Catch22._transform_single_feature, the argument case_id is deprecated and will be removed in the future.\n",
      "  warn(\n",
      "C:\\Users\\kubak\\AppData\\Local\\Programs\\Python\\Python311\\Lib\\site-packages\\sktime\\transformations\\panel\\catch22.py:338: FutureWarning: In Catch22._transform_single_feature, the argument case_id is deprecated and will be removed in the future.\n",
      "  warn(\n",
      "C:\\Users\\kubak\\AppData\\Local\\Programs\\Python\\Python311\\Lib\\site-packages\\sktime\\transformations\\panel\\catch22.py:338: FutureWarning: In Catch22._transform_single_feature, the argument case_id is deprecated and will be removed in the future.\n",
      "  warn(\n",
      "C:\\Users\\kubak\\AppData\\Local\\Programs\\Python\\Python311\\Lib\\site-packages\\sktime\\transformations\\panel\\catch22.py:338: FutureWarning: In Catch22._transform_single_feature, the argument case_id is deprecated and will be removed in the future.\n",
      "  warn(\n",
      "C:\\Users\\kubak\\AppData\\Local\\Programs\\Python\\Python311\\Lib\\site-packages\\sktime\\transformations\\panel\\catch22.py:338: FutureWarning: In Catch22._transform_single_feature, the argument case_id is deprecated and will be removed in the future.\n",
      "  warn(\n",
      "C:\\Users\\kubak\\AppData\\Local\\Programs\\Python\\Python311\\Lib\\site-packages\\sktime\\transformations\\panel\\catch22.py:338: FutureWarning: In Catch22._transform_single_feature, the argument case_id is deprecated and will be removed in the future.\n",
      "  warn(\n",
      "C:\\Users\\kubak\\AppData\\Local\\Programs\\Python\\Python311\\Lib\\site-packages\\sktime\\transformations\\panel\\catch22.py:338: FutureWarning: In Catch22._transform_single_feature, the argument case_id is deprecated and will be removed in the future.\n",
      "  warn(\n",
      "C:\\Users\\kubak\\AppData\\Local\\Programs\\Python\\Python311\\Lib\\site-packages\\sktime\\transformations\\panel\\catch22.py:338: FutureWarning: In Catch22._transform_single_feature, the argument case_id is deprecated and will be removed in the future.\n",
      "  warn(\n",
      "C:\\Users\\kubak\\AppData\\Local\\Programs\\Python\\Python311\\Lib\\site-packages\\sktime\\transformations\\panel\\catch22.py:338: FutureWarning: In Catch22._transform_single_feature, the argument case_id is deprecated and will be removed in the future.\n",
      "  warn(\n",
      "C:\\Users\\kubak\\AppData\\Local\\Programs\\Python\\Python311\\Lib\\site-packages\\sktime\\transformations\\panel\\catch22.py:338: FutureWarning: In Catch22._transform_single_feature, the argument case_id is deprecated and will be removed in the future.\n",
      "  warn(\n",
      "C:\\Users\\kubak\\AppData\\Local\\Programs\\Python\\Python311\\Lib\\site-packages\\sktime\\transformations\\panel\\catch22.py:338: FutureWarning: In Catch22._transform_single_feature, the argument case_id is deprecated and will be removed in the future.\n",
      "  warn(\n",
      "C:\\Users\\kubak\\AppData\\Local\\Programs\\Python\\Python311\\Lib\\site-packages\\sktime\\transformations\\panel\\catch22.py:338: FutureWarning: In Catch22._transform_single_feature, the argument case_id is deprecated and will be removed in the future.\n",
      "  warn(\n",
      "C:\\Users\\kubak\\AppData\\Local\\Programs\\Python\\Python311\\Lib\\site-packages\\sktime\\transformations\\panel\\catch22.py:338: FutureWarning: In Catch22._transform_single_feature, the argument case_id is deprecated and will be removed in the future.\n",
      "  warn(\n",
      "C:\\Users\\kubak\\AppData\\Local\\Programs\\Python\\Python311\\Lib\\site-packages\\sktime\\transformations\\panel\\catch22.py:338: FutureWarning: In Catch22._transform_single_feature, the argument case_id is deprecated and will be removed in the future.\n",
      "  warn(\n",
      "C:\\Users\\kubak\\AppData\\Local\\Programs\\Python\\Python311\\Lib\\site-packages\\sktime\\transformations\\panel\\catch22.py:338: FutureWarning: In Catch22._transform_single_feature, the argument case_id is deprecated and will be removed in the future.\n",
      "  warn(\n",
      "C:\\Users\\kubak\\AppData\\Local\\Programs\\Python\\Python311\\Lib\\site-packages\\sktime\\transformations\\panel\\catch22.py:338: FutureWarning: In Catch22._transform_single_feature, the argument case_id is deprecated and will be removed in the future.\n",
      "  warn(\n",
      "C:\\Users\\kubak\\AppData\\Local\\Programs\\Python\\Python311\\Lib\\site-packages\\sktime\\transformations\\panel\\catch22.py:338: FutureWarning: In Catch22._transform_single_feature, the argument case_id is deprecated and will be removed in the future.\n",
      "  warn(\n",
      "C:\\Users\\kubak\\AppData\\Local\\Programs\\Python\\Python311\\Lib\\site-packages\\sktime\\transformations\\panel\\catch22.py:338: FutureWarning: In Catch22._transform_single_feature, the argument case_id is deprecated and will be removed in the future.\n",
      "  warn(\n",
      "C:\\Users\\kubak\\AppData\\Local\\Programs\\Python\\Python311\\Lib\\site-packages\\sktime\\transformations\\panel\\catch22.py:338: FutureWarning: In Catch22._transform_single_feature, the argument case_id is deprecated and will be removed in the future.\n",
      "  warn(\n",
      "C:\\Users\\kubak\\AppData\\Local\\Programs\\Python\\Python311\\Lib\\site-packages\\sktime\\transformations\\panel\\catch22.py:338: FutureWarning: In Catch22._transform_single_feature, the argument case_id is deprecated and will be removed in the future.\n",
      "  warn(\n"
     ]
    },
    {
     "data": {
      "text/plain": [
       "0.975"
      ]
     },
     "execution_count": 16,
     "metadata": {},
     "output_type": "execute_result"
    }
   ],
   "source": [
    "from sktime.classification.interval_based import DrCIF\n",
    "from sktime.transformations.panel.compose import ColumnConcatenator\n",
    "\n",
    "clf = ColumnConcatenator() * DrCIF(n_estimators=10, n_intervals=5)\n",
    "clf.fit(motions_train_X, motions_train_y)\n",
    "y_pred = clf.predict(motions_test_X)\n",
    "\n"
   ]
  },
  {
   "cell_type": "code",
   "execution_count": 18,
   "id": "3853ae33-defe-420f-9f8a-c9e5ffbae59d",
   "metadata": {},
   "outputs": [
    {
     "data": {
      "text/plain": [
       "0.925"
      ]
     },
     "execution_count": 18,
     "metadata": {},
     "output_type": "execute_result"
    }
   ],
   "source": [
    "accuracy_score(motions_test_y, y_pred)"
   ]
  },
  {
   "cell_type": "markdown",
   "id": "9c2b3617-8662-45fc-b3dd-8319ad836641",
   "metadata": {},
   "source": [
    "### Testowanie ColumnEnsembleClassifier DrCIF oraz RocketClasssifier\n",
    "Używanie klassifkatorów dla różnych kolumn i łączenie wyników"
   ]
  },
  {
   "cell_type": "code",
   "execution_count": 17,
   "id": "a74d0f91-79ba-430a-acdc-69c244e72751",
   "metadata": {
    "collapsed": true,
    "jupyter": {
     "outputs_hidden": true
    }
   },
   "outputs": [
    {
     "name": "stderr",
     "output_type": "stream",
     "text": [
      "C:\\Users\\kubak\\AppData\\Local\\Programs\\Python\\Python311\\Lib\\site-packages\\sktime\\transformations\\panel\\catch22.py:338: FutureWarning: In Catch22._transform_single_feature, the argument case_id is deprecated and will be removed in the future.\n",
      "  warn(\n",
      "C:\\Users\\kubak\\AppData\\Local\\Programs\\Python\\Python311\\Lib\\site-packages\\sktime\\transformations\\panel\\catch22.py:338: FutureWarning: In Catch22._transform_single_feature, the argument case_id is deprecated and will be removed in the future.\n",
      "  warn(\n",
      "C:\\Users\\kubak\\AppData\\Local\\Programs\\Python\\Python311\\Lib\\site-packages\\sktime\\transformations\\panel\\catch22.py:338: FutureWarning: In Catch22._transform_single_feature, the argument case_id is deprecated and will be removed in the future.\n",
      "  warn(\n",
      "C:\\Users\\kubak\\AppData\\Local\\Programs\\Python\\Python311\\Lib\\site-packages\\sktime\\transformations\\panel\\catch22.py:338: FutureWarning: In Catch22._transform_single_feature, the argument case_id is deprecated and will be removed in the future.\n",
      "  warn(\n",
      "C:\\Users\\kubak\\AppData\\Local\\Programs\\Python\\Python311\\Lib\\site-packages\\sktime\\transformations\\panel\\catch22.py:338: FutureWarning: In Catch22._transform_single_feature, the argument case_id is deprecated and will be removed in the future.\n",
      "  warn(\n",
      "C:\\Users\\kubak\\AppData\\Local\\Programs\\Python\\Python311\\Lib\\site-packages\\sktime\\transformations\\panel\\catch22.py:338: FutureWarning: In Catch22._transform_single_feature, the argument case_id is deprecated and will be removed in the future.\n",
      "  warn(\n",
      "C:\\Users\\kubak\\AppData\\Local\\Programs\\Python\\Python311\\Lib\\site-packages\\sktime\\transformations\\panel\\catch22.py:338: FutureWarning: In Catch22._transform_single_feature, the argument case_id is deprecated and will be removed in the future.\n",
      "  warn(\n",
      "C:\\Users\\kubak\\AppData\\Local\\Programs\\Python\\Python311\\Lib\\site-packages\\sktime\\transformations\\panel\\catch22.py:338: FutureWarning: In Catch22._transform_single_feature, the argument case_id is deprecated and will be removed in the future.\n",
      "  warn(\n",
      "C:\\Users\\kubak\\AppData\\Local\\Programs\\Python\\Python311\\Lib\\site-packages\\sktime\\transformations\\panel\\catch22.py:338: FutureWarning: In Catch22._transform_single_feature, the argument case_id is deprecated and will be removed in the future.\n",
      "  warn(\n",
      "C:\\Users\\kubak\\AppData\\Local\\Programs\\Python\\Python311\\Lib\\site-packages\\sktime\\transformations\\panel\\catch22.py:338: FutureWarning: In Catch22._transform_single_feature, the argument case_id is deprecated and will be removed in the future.\n",
      "  warn(\n",
      "C:\\Users\\kubak\\AppData\\Local\\Programs\\Python\\Python311\\Lib\\site-packages\\sktime\\transformations\\panel\\catch22.py:338: FutureWarning: In Catch22._transform_single_feature, the argument case_id is deprecated and will be removed in the future.\n",
      "  warn(\n",
      "C:\\Users\\kubak\\AppData\\Local\\Programs\\Python\\Python311\\Lib\\site-packages\\sktime\\transformations\\panel\\catch22.py:338: FutureWarning: In Catch22._transform_single_feature, the argument case_id is deprecated and will be removed in the future.\n",
      "  warn(\n"
     ]
    },
    {
     "data": {
      "text/plain": [
       "0.925"
      ]
     },
     "execution_count": 17,
     "metadata": {},
     "output_type": "execute_result"
    }
   ],
   "source": [
    "from sktime.classification.compose import ColumnEnsembleClassifier\n",
    "from sktime.classification.interval_based import DrCIF\n",
    "from sktime.classification.kernel_based import RocketClassifier\n",
    "\n",
    "col = ColumnEnsembleClassifier(\n",
    "    estimators=[\n",
    "        (\"DrCIF0\", DrCIF(n_estimators=10, n_intervals=5), [0]),\n",
    "        (\"ROCKET3\", RocketClassifier(num_kernels=1000), [3]),\n",
    "    ]\n",
    ")\n",
    "\n",
    "col.fit(motions_train_X, motions_train_y)\n",
    "y_pred = col.predict(motions_test_X)\n",
    "\n"
   ]
  },
  {
   "cell_type": "code",
   "execution_count": 19,
   "id": "f087ef39-7255-4a70-b1ed-935805083c61",
   "metadata": {},
   "outputs": [
    {
     "data": {
      "text/plain": [
       "0.925"
      ]
     },
     "execution_count": 19,
     "metadata": {},
     "output_type": "execute_result"
    }
   ],
   "source": [
    "accuracy_score(motions_test_y, y_pred)"
   ]
  },
  {
   "cell_type": "code",
   "execution_count": null,
   "id": "ac3a5b31-7d45-4406-9338-9e9afbb9d70b",
   "metadata": {},
   "outputs": [],
   "source": []
  },
  {
   "cell_type": "markdown",
   "id": "e11667a6-2477-428f-969a-aabba15d3502",
   "metadata": {},
   "source": [
    "### Metody do testowania wyników"
   ]
  },
  {
   "cell_type": "code",
   "execution_count": 52,
   "id": "03f60a88-96fe-4685-86a9-a77e002ecf40",
   "metadata": {},
   "outputs": [],
   "source": [
    "from sklearn.metrics import accuracy_score, precision_score, recall_score, f1_score, classification_report\n",
    "\n",
    "def compute_classification_metrics(y_test, y_pred):\n",
    "    # Sprawdzenie, czy listy mają taką samą długość\n",
    "    if len(y_test) != len(y_pred):\n",
    "        raise ValueError(\"Listy y_test i y_pred muszą mieć taką samą długość.\")\n",
    "    \n",
    "    # Obliczanie metryk\n",
    "    accuracy = accuracy_score(y_test, y_pred)\n",
    "    precision = precision_score(y_test, y_pred, average='weighted')\n",
    "    recall = recall_score(y_test, y_pred, average='weighted')\n",
    "    f1 = f1_score(y_test, y_pred, average='weighted')\n",
    "    \n",
    "    # Generowanie szczegółowego raportu\n",
    "    report = classification_report(y_test, y_pred, output_dict=True)\n",
    "    \n",
    "    # Zwracanie wyników w postaci słownika\n",
    "    metrics = {\n",
    "        'accuracy': accuracy,\n",
    "        'precision': precision,\n",
    "        'recall': recall,\n",
    "        'f1_score': f1,\n",
    "        'classification_report': report\n",
    "    }\n",
    "    \n",
    "    return metrics"
   ]
  },
  {
   "cell_type": "code",
   "execution_count": 53,
   "id": "96f770b5-1f45-42fb-beda-dab3e67d1c05",
   "metadata": {},
   "outputs": [
    {
     "name": "stdout",
     "output_type": "stream",
     "text": [
      "accuracy: 0.425\n",
      "precision: 0.4761904761904761\n",
      "recall: 0.425\n",
      "f1_score: 0.35803167420814486\n",
      "classification_report:\n",
      "  badminton: {'precision': 0.0, 'recall': 0.0, 'f1-score': 0.0, 'support': 10.0}\n",
      "  running: {'precision': 1.0, 'recall': 0.3, 'f1-score': 0.46153846153846156, 'support': 10.0}\n",
      "  standing: {'precision': 0.3333333333333333, 'recall': 1.0, 'f1-score': 0.5, 'support': 10.0}\n",
      "  walking: {'precision': 0.5714285714285714, 'recall': 0.4, 'f1-score': 0.47058823529411764, 'support': 10.0}\n",
      "  accuracy: 0.425\n",
      "  macro avg: {'precision': 0.47619047619047616, 'recall': 0.42500000000000004, 'f1-score': 0.3580316742081448, 'support': 40.0}\n",
      "  weighted avg: {'precision': 0.4761904761904761, 'recall': 0.425, 'f1-score': 0.35803167420814486, 'support': 40.0}\n"
     ]
    },
    {
     "name": "stderr",
     "output_type": "stream",
     "text": [
      "C:\\Users\\kubak\\AppData\\Local\\Programs\\Python\\Python312\\Lib\\site-packages\\sklearn\\metrics\\_classification.py:1531: UndefinedMetricWarning: Precision is ill-defined and being set to 0.0 in labels with no predicted samples. Use `zero_division` parameter to control this behavior.\n",
      "  _warn_prf(average, modifier, f\"{metric.capitalize()} is\", len(result))\n",
      "C:\\Users\\kubak\\AppData\\Local\\Programs\\Python\\Python312\\Lib\\site-packages\\sklearn\\metrics\\_classification.py:1531: UndefinedMetricWarning: Precision is ill-defined and being set to 0.0 in labels with no predicted samples. Use `zero_division` parameter to control this behavior.\n",
      "  _warn_prf(average, modifier, f\"{metric.capitalize()} is\", len(result))\n",
      "C:\\Users\\kubak\\AppData\\Local\\Programs\\Python\\Python312\\Lib\\site-packages\\sklearn\\metrics\\_classification.py:1531: UndefinedMetricWarning: Precision is ill-defined and being set to 0.0 in labels with no predicted samples. Use `zero_division` parameter to control this behavior.\n",
      "  _warn_prf(average, modifier, f\"{metric.capitalize()} is\", len(result))\n",
      "C:\\Users\\kubak\\AppData\\Local\\Programs\\Python\\Python312\\Lib\\site-packages\\sklearn\\metrics\\_classification.py:1531: UndefinedMetricWarning: Precision is ill-defined and being set to 0.0 in labels with no predicted samples. Use `zero_division` parameter to control this behavior.\n",
      "  _warn_prf(average, modifier, f\"{metric.capitalize()} is\", len(result))\n"
     ]
    }
   ],
   "source": [
    "#Testowanie KNN\n",
    "\n",
    "metrics = compute_classification_metrics(y_test, y_pred)\n",
    "for metric, value in metrics.items():\n",
    "    if metric != 'classification_report':\n",
    "        print(f\"{metric}: {value}\")\n",
    "    else:\n",
    "        print(f\"{metric}:\")\n",
    "        for label, scores in value.items():\n",
    "            print(f\"  {label}: {scores}\")"
   ]
  },
  {
   "cell_type": "code",
   "execution_count": null,
   "id": "df8fe4fc-10aa-42b2-9f51-352f45d210ca",
   "metadata": {},
   "outputs": [],
   "source": []
  },
  {
   "cell_type": "markdown",
   "id": "0ea60c79-80ba-41ec-9c07-f24bd3d45578",
   "metadata": {},
   "source": [
    "### Zapis starego kodu fuzzycmeans"
   ]
  },
  {
   "cell_type": "code",
   "execution_count": null,
   "id": "4410ce5f-7212-4cae-a336-3415554fc154",
   "metadata": {},
   "outputs": [],
   "source": [
    "data = chunks[0]\n",
    "data.shape"
   ]
  },
  {
   "cell_type": "code",
   "execution_count": null,
   "id": "3d86e0d9-e77f-43a6-8d12-c4077ab47df0",
   "metadata": {},
   "outputs": [],
   "source": [
    "# Pierwsze trenowanie modelu\n",
    "cntr, u, cluster_labels, fpc = first_train_fuzzy_c_means(data.T, n_clusters)\n",
    "print('fpc of first chunk', fpc)"
   ]
  },
  {
   "cell_type": "code",
   "execution_count": null,
   "id": "c7775ab8-b530-42fa-81b1-5a18424ff7da",
   "metadata": {},
   "outputs": [],
   "source": [
    "# Wizualizacja dla pierwszej iteracji\n",
    "visualize_all(data, cntr, cluster_labels)"
   ]
  },
  {
   "cell_type": "code",
   "execution_count": null,
   "id": "543457fb-c417-4fb1-9ff0-d2967ba2ab1f",
   "metadata": {},
   "outputs": [],
   "source": [
    "# Kolejne trenowanie modelu\n",
    "for count, chunk in enumerate(chunks):\n",
    "    if count == 0:\n",
    "        continue\n",
    "    print(\"Przetwarzamy chunk \", count)\n",
    "\n",
    "    # Dodajemy kolejny chunk do danych\n",
    "    #data = np.vstack((data, chunk))\n",
    "    data = chunk\n",
    "    print(data.shape)\n",
    "    \n",
    "    # Generowanie losowej macierzy z normalizowanymi kolumnami\n",
    "    random_u = np.random.rand(n_clusters, chunk.shape[0])\n",
    "    random_u = random_u / np.linalg.norm(random_u, axis=0)\n",
    "    print(random_u.shape)\n",
    "    print(u.shape)\n",
    "    \n",
    "    # Łączenie macierzy u z random_u\n",
    "    #u = np.hstack((u, random_u))\n",
    "    #print(u.shape)\n",
    "    \n",
    "    cntr, u, u0, d, jm, fpc, p, cluster_labels = another_train_fuzzy_c_means(data.T, n_clusters, u)\n",
    "    #print('cntr',cntr.shape,cntr)\n",
    "    #print('d',d.shape)\n",
    "    print('p', p)\n",
    "    print('jm', jm[-10:])\n",
    "    print('fpc', fpc.shape, fpc)\n",
    "    #print('u0', u0.shape, u0)\n",
    "    #print('u',u.shape, u)\n",
    "\n",
    "    plot_pca(data, cntr, cluster_labels)\n",
    "    #plot_tsne(data, cntr, cluster_labels)"
   ]
  },
  {
   "cell_type": "code",
   "execution_count": null,
   "id": "a9487bfa-f033-4322-8c13-dac1b5b2afa1",
   "metadata": {},
   "outputs": [],
   "source": []
  },
  {
   "cell_type": "code",
   "execution_count": null,
   "id": "dffab246-0bf4-4e81-9a8b-dc627337b716",
   "metadata": {},
   "outputs": [],
   "source": []
  },
  {
   "cell_type": "code",
   "execution_count": null,
   "id": "3a0690b8-e77e-4bd7-910b-487466089223",
   "metadata": {},
   "outputs": [],
   "source": []
  },
  {
   "cell_type": "code",
   "execution_count": null,
   "id": "d6e0e10a-e739-4504-a0d3-42e9900a64f5",
   "metadata": {},
   "outputs": [],
   "source": []
  }
 ],
 "metadata": {
  "kernelspec": {
   "display_name": "python311",
   "language": "python",
   "name": "python311"
  },
  "language_info": {
   "codemirror_mode": {
    "name": "ipython",
    "version": 3
   },
   "file_extension": ".py",
   "mimetype": "text/x-python",
   "name": "python",
   "nbconvert_exporter": "python",
   "pygments_lexer": "ipython3",
   "version": "3.11.9"
  }
 },
 "nbformat": 4,
 "nbformat_minor": 5
}
