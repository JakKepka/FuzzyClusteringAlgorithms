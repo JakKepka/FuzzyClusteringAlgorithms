{
 "cells": [
  {
   "cell_type": "code",
   "execution_count": 1,
   "id": "db48a336-baec-4da0-968a-e3f74a3630af",
   "metadata": {},
   "outputs": [
    {
     "name": "stdout",
     "output_type": "stream",
     "text": [
      "C:\\Users\\kubak\\Desktop\\Klasyfikator\n"
     ]
    },
    {
     "name": "stderr",
     "output_type": "stream",
     "text": [
      "C:\\Users\\kubak\\AppData\\Local\\Programs\\Python\\Python312\\Lib\\site-packages\\IPython\\core\\magics\\osm.py:417: UserWarning: This is now an optional IPython functionality, setting dhist requires you to install the `pickleshare` library.\n",
      "  self.shell.db['dhist'] = compress_dhist(dhist)[-100:]\n"
     ]
    }
   ],
   "source": [
    "%cd .."
   ]
  },
  {
   "cell_type": "code",
   "execution_count": 2,
   "id": "60ca1134-3a83-4ed5-acc2-8cb20c67cb39",
   "metadata": {},
   "outputs": [
    {
     "name": "stdout",
     "output_type": "stream",
     "text": [
      "       att1      att2      att3      att4      att5      att6      att7  \\\n",
      "0  0.080316  0.082074  0.112316  0.106396  0.092464  0.095539  0.090827   \n",
      "1 -0.063532 -0.061580 -0.059281 -0.056526 -0.053335 -0.049791 -0.045943   \n",
      "2 -0.028852 -0.028861 -0.025920 -0.028672 -0.030667 -0.029202 -0.026138   \n",
      "3 -0.204803 -0.202545 -0.197479 -0.189117 -0.179291 -0.169861 -0.161408   \n",
      "4  0.001617  0.002991  0.005524  0.003845  0.001526  0.003387  0.003754   \n",
      "\n",
      "       att8      att9     att10  ...  att44092  att44093  att44094  att44095  \\\n",
      "0  0.089864  0.087511  0.102756  ... -0.000313  0.000672  0.003183  0.014634   \n",
      "1 -0.041736 -0.037245 -0.032584  ... -0.040815 -0.043703 -0.046105 -0.047783   \n",
      "2 -0.028112 -0.031541 -0.031301  ... -0.003771  0.013850  0.028702  0.026632   \n",
      "3 -0.152771 -0.143555 -0.135437  ...  0.074280  0.064117  0.053467  0.042969   \n",
      "4  0.002747  0.006836  0.011475  ... -0.001495  0.006470  0.012451  0.016388   \n",
      "\n",
      "   att44096  att44097  att44098  att44099  att44100              target  \n",
      "0 -0.011119 -0.006508  0.003153 -0.006272  0.027340  b'Air_conditioner'  \n",
      "1 -0.048890 -0.049314 -0.049266 -0.048614 -0.047738  b'Air_conditioner'  \n",
      "2  0.017402  0.017888  0.018592  0.010292 -0.003540  b'Air_conditioner'  \n",
      "3  0.032135  0.020966  0.011414  0.003113 -0.006958  b'Air_conditioner'  \n",
      "4  0.021362  0.023560  0.021118  0.019836  0.020721  b'Air_conditioner'  \n",
      "\n",
      "[5 rows x 44101 columns]\n",
      "       att1      att2      att3      att4      att5      att6      att7  \\\n",
      "0  0.005590  0.005525  0.000919 -0.005951 -0.011182 -0.013598 -0.010113   \n",
      "1 -0.015732 -0.018157 -0.018347 -0.018814 -0.017864 -0.016544 -0.014531   \n",
      "2 -0.002075 -0.031423 -0.081621 -0.111736 -0.114353 -0.124371 -0.127502   \n",
      "3 -0.099553 -0.098593 -0.097693 -0.096458 -0.094997 -0.093324 -0.091177   \n",
      "4 -0.001190 -0.000397 -0.000366 -0.000671 -0.000397  0.000031 -0.000336   \n",
      "\n",
      "       att8      att9     att10  ...  att44092  att44093  att44094  att44095  \\\n",
      "0 -0.003635 -0.000590 -0.002113  ... -0.015196 -0.015322 -0.015440 -0.009862   \n",
      "1 -0.012785 -0.011772 -0.010834  ... -0.005852 -0.005426 -0.004778 -0.003914   \n",
      "2 -0.074747 -0.009972 -0.018641  ...  0.040822  0.101414  0.009696 -0.084380   \n",
      "3 -0.088743 -0.085991 -0.082829  ... -0.005555 -0.009272 -0.013364 -0.017659   \n",
      "4 -0.000275 -0.000092 -0.000061  ...  0.000580  0.000549  0.000336  0.000061   \n",
      "\n",
      "   att44096  att44097  att44098  att44099  att44100              target  \n",
      "0 -0.006122 -0.005818 -0.004832 -0.009052 -0.011249  b'Air_conditioner'  \n",
      "1 -0.003458 -0.002943 -0.002865 -0.003139 -0.002979  b'Air_conditioner'  \n",
      "2 -0.036044  0.039029  0.082745  0.022406 -0.071009  b'Air_conditioner'  \n",
      "3 -0.022257 -0.026810 -0.031420 -0.035802 -0.039937  b'Air_conditioner'  \n",
      "4 -0.000427 -0.001007 -0.001404 -0.001892 -0.002472  b'Air_conditioner'  \n",
      "\n",
      "[5 rows x 44101 columns]\n"
     ]
    }
   ],
   "source": [
    "import numpy as np\n",
    "import pandas as pd\n",
    "from scipy.io import arff\n",
    "from sklearn.preprocessing import LabelEncoder\n",
    "\n",
    "# Funkcja do ładowania danych z pliku ARFF\n",
    "def load_arff(file_path):\n",
    "    data, meta = arff.loadarff(file_path)\n",
    "    df = pd.DataFrame(data)\n",
    "    return df\n",
    "\n",
    "# Ścieżki do plików ARFF\n",
    "train_arff_path = 'datasets/UrbanSound/UrbanSound_TRAIN.arff'\n",
    "test_arff_path = 'datasets/UrbanSound/UrbanSound_TEST.arff'\n",
    "\n",
    "# Ładowanie danych\n",
    "train_data = load_arff(train_arff_path)\n",
    "test_data = load_arff(test_arff_path)\n",
    "\n",
    "# Wyświetlenie pierwszych kilku wierszy danych\n",
    "print(train_data.head())\n",
    "print(test_data.head())\n"
   ]
  },
  {
   "cell_type": "code",
   "execution_count": 14,
   "id": "d1389b88-2684-4ade-be4d-a9596cf600a0",
   "metadata": {},
   "outputs": [
    {
     "name": "stdout",
     "output_type": "stream",
     "text": [
      "(2717, 44101)\n"
     ]
    }
   ],
   "source": [
    "print(train_data.shape)"
   ]
  },
  {
   "cell_type": "code",
   "execution_count": 15,
   "id": "920ab3d3-9c84-43d3-809e-8222ca2090fd",
   "metadata": {},
   "outputs": [
    {
     "name": "stdout",
     "output_type": "stream",
     "text": [
      "att1                 -0.063532\n",
      "att2                  -0.06158\n",
      "att3                 -0.059281\n",
      "att4                 -0.056526\n",
      "att5                 -0.053335\n",
      "                   ...        \n",
      "att44097             -0.049314\n",
      "att44098             -0.049266\n",
      "att44099             -0.048614\n",
      "att44100             -0.047738\n",
      "target      b'Air_conditioner'\n",
      "Name: 1, Length: 44101, dtype: object\n"
     ]
    }
   ],
   "source": [
    "print(train_data.loc[1])"
   ]
  },
  {
   "cell_type": "code",
   "execution_count": 20,
   "id": "7bcf2e13-e5f4-45cf-8c25-69f6a727e4da",
   "metadata": {},
   "outputs": [
    {
     "name": "stdout",
     "output_type": "stream",
     "text": [
      "Sample encoded labels (training): [0 0 0 0 0]\n",
      "Sample encoded labels (test): [0 0 0 0 0]\n"
     ]
    }
   ],
   "source": [
    "# Wyodrębnianie nazw plików i etykiet\n",
    "X_train = train_data.drop(columns=['target']).values\n",
    "y_train = train_data['target'].values\n",
    "\n",
    "# Wyodrębnianie nazw plików i etykiet\n",
    "X_test = test_data.drop(columns=['target']).values\n",
    "y_test = test_data['target'].values\n",
    "\n",
    "# Kodowanie etykiet\n",
    "le = LabelEncoder()\n",
    "y_train_encoded = le.fit_transform(y_train)\n",
    "y_test_encoded = le.transform(y_test)\n",
    "\n",
    "# Wyświetlenie zakodowanych etykiet\n",
    "print(\"Sample encoded labels (training):\", y_train_encoded[:5])\n",
    "print(\"Sample encoded labels (test):\", y_test_encoded[:5])\n"
   ]
  },
  {
   "cell_type": "code",
   "execution_count": 21,
   "id": "67676e80-afdd-48f6-9969-9927f1f443e0",
   "metadata": {},
   "outputs": [],
   "source": [
    "X_train = np.array(X_train)\n",
    "X_test = np.array(X_test)\n"
   ]
  },
  {
   "cell_type": "code",
   "execution_count": 22,
   "id": "a48b61e3-aae8-4b9c-8683-69acc241469c",
   "metadata": {
    "collapsed": true,
    "jupyter": {
     "outputs_hidden": true
    }
   },
   "outputs": [
    {
     "name": "stdout",
     "output_type": "stream",
     "text": [
      "Iteration 1, loss = 2.35446758\n",
      "Iteration 2, loss = 1.40434589\n",
      "Iteration 3, loss = 1.06175806\n",
      "Iteration 4, loss = 0.83670871\n",
      "Iteration 5, loss = 0.67755248\n",
      "Iteration 6, loss = 0.55956878\n",
      "Iteration 7, loss = 0.46869853\n",
      "Iteration 8, loss = 0.39916112\n",
      "Iteration 9, loss = 0.34493930\n",
      "Iteration 10, loss = 0.30144234\n",
      "Iteration 11, loss = 0.26598015\n",
      "Iteration 12, loss = 0.23763917\n",
      "Iteration 13, loss = 0.21389161\n",
      "Iteration 14, loss = 0.19437533\n",
      "Iteration 15, loss = 0.17776301\n",
      "Iteration 16, loss = 0.16412955\n",
      "Iteration 17, loss = 0.15234248\n",
      "Iteration 18, loss = 0.14235977\n",
      "Iteration 19, loss = 0.13355636\n",
      "Iteration 20, loss = 0.12598488\n",
      "Iteration 21, loss = 0.11946776\n",
      "Iteration 22, loss = 0.11351297\n",
      "Iteration 23, loss = 0.10824867\n",
      "Iteration 24, loss = 0.10365839\n",
      "Iteration 25, loss = 0.09943466\n",
      "Iteration 26, loss = 0.09569432\n",
      "Iteration 27, loss = 0.09232848\n",
      "Iteration 28, loss = 0.08913692\n",
      "Iteration 29, loss = 0.08631658\n",
      "Iteration 30, loss = 0.08379447\n",
      "Iteration 31, loss = 0.08134656\n",
      "Iteration 32, loss = 0.07922101\n",
      "Iteration 33, loss = 0.07714207\n",
      "Iteration 34, loss = 0.07524412\n",
      "Iteration 35, loss = 0.07342900\n",
      "Iteration 36, loss = 0.07191054\n",
      "Iteration 37, loss = 0.07036918\n",
      "Iteration 38, loss = 0.06892746\n",
      "Iteration 39, loss = 0.06771268\n",
      "Iteration 40, loss = 0.06636151\n",
      "Iteration 41, loss = 0.06517345\n",
      "Iteration 42, loss = 0.06416203\n",
      "Iteration 43, loss = 0.06310732\n",
      "Iteration 44, loss = 0.06204957\n",
      "Iteration 45, loss = 0.06114393\n",
      "Iteration 46, loss = 0.06021124\n",
      "Iteration 47, loss = 0.05933803\n",
      "Iteration 48, loss = 0.05851924\n"
     ]
    },
    {
     "name": "stderr",
     "output_type": "stream",
     "text": [
      "C:\\Users\\kubak\\AppData\\Local\\Programs\\Python\\Python312\\Lib\\site-packages\\sklearn\\neural_network\\_multilayer_perceptron.py:697: UserWarning: Training interrupted by user.\n",
      "  warnings.warn(\"Training interrupted by user.\")\n"
     ]
    },
    {
     "ename": "TypeError",
     "evalue": "unsupported format string passed to bytes.__format__",
     "output_type": "error",
     "traceback": [
      "\u001b[1;31m---------------------------------------------------------------\u001b[0m",
      "\u001b[1;31mTypeError\u001b[0m                     Traceback (most recent call last)",
      "Cell \u001b[1;32mIn[22], line 12\u001b[0m\n\u001b[0;32m      9\u001b[0m y_pred \u001b[38;5;241m=\u001b[39m model\u001b[38;5;241m.\u001b[39mpredict(X_test)\n\u001b[0;32m     11\u001b[0m \u001b[38;5;66;03m# Wyświetlenie raportu klasyfikacji\u001b[39;00m\n\u001b[1;32m---> 12\u001b[0m \u001b[38;5;28mprint\u001b[39m(\u001b[43mclassification_report\u001b[49m\u001b[43m(\u001b[49m\u001b[43my_test_encoded\u001b[49m\u001b[43m,\u001b[49m\u001b[43m \u001b[49m\u001b[43my_pred\u001b[49m\u001b[43m,\u001b[49m\u001b[43m \u001b[49m\u001b[43mtarget_names\u001b[49m\u001b[38;5;241;43m=\u001b[39;49m\u001b[43mle\u001b[49m\u001b[38;5;241;43m.\u001b[39;49m\u001b[43mclasses_\u001b[49m\u001b[43m)\u001b[49m)\n",
      "File \u001b[1;32m~\\AppData\\Local\\Programs\\Python\\Python312\\Lib\\site-packages\\sklearn\\utils\\_param_validation.py:213\u001b[0m, in \u001b[0;36mvalidate_params.<locals>.decorator.<locals>.wrapper\u001b[1;34m(*args, **kwargs)\u001b[0m\n\u001b[0;32m    207\u001b[0m \u001b[38;5;28;01mtry\u001b[39;00m:\n\u001b[0;32m    208\u001b[0m     \u001b[38;5;28;01mwith\u001b[39;00m config_context(\n\u001b[0;32m    209\u001b[0m         skip_parameter_validation\u001b[38;5;241m=\u001b[39m(\n\u001b[0;32m    210\u001b[0m             prefer_skip_nested_validation \u001b[38;5;129;01mor\u001b[39;00m global_skip_validation\n\u001b[0;32m    211\u001b[0m         )\n\u001b[0;32m    212\u001b[0m     ):\n\u001b[1;32m--> 213\u001b[0m         \u001b[38;5;28;01mreturn\u001b[39;00m \u001b[43mfunc\u001b[49m\u001b[43m(\u001b[49m\u001b[38;5;241;43m*\u001b[39;49m\u001b[43margs\u001b[49m\u001b[43m,\u001b[49m\u001b[43m \u001b[49m\u001b[38;5;241;43m*\u001b[39;49m\u001b[38;5;241;43m*\u001b[39;49m\u001b[43mkwargs\u001b[49m\u001b[43m)\u001b[49m\n\u001b[0;32m    214\u001b[0m \u001b[38;5;28;01mexcept\u001b[39;00m InvalidParameterError \u001b[38;5;28;01mas\u001b[39;00m e:\n\u001b[0;32m    215\u001b[0m     \u001b[38;5;66;03m# When the function is just a wrapper around an estimator, we allow\u001b[39;00m\n\u001b[0;32m    216\u001b[0m     \u001b[38;5;66;03m# the function to delegate validation to the estimator, but we replace\u001b[39;00m\n\u001b[0;32m    217\u001b[0m     \u001b[38;5;66;03m# the name of the estimator by the name of the function in the error\u001b[39;00m\n\u001b[0;32m    218\u001b[0m     \u001b[38;5;66;03m# message to avoid confusion.\u001b[39;00m\n\u001b[0;32m    219\u001b[0m     msg \u001b[38;5;241m=\u001b[39m re\u001b[38;5;241m.\u001b[39msub(\n\u001b[0;32m    220\u001b[0m         \u001b[38;5;124mr\u001b[39m\u001b[38;5;124m\"\u001b[39m\u001b[38;5;124mparameter of \u001b[39m\u001b[38;5;124m\\\u001b[39m\u001b[38;5;124mw+ must be\u001b[39m\u001b[38;5;124m\"\u001b[39m,\n\u001b[0;32m    221\u001b[0m         \u001b[38;5;124mf\u001b[39m\u001b[38;5;124m\"\u001b[39m\u001b[38;5;124mparameter of \u001b[39m\u001b[38;5;132;01m{\u001b[39;00mfunc\u001b[38;5;241m.\u001b[39m\u001b[38;5;18m__qualname__\u001b[39m\u001b[38;5;132;01m}\u001b[39;00m\u001b[38;5;124m must be\u001b[39m\u001b[38;5;124m\"\u001b[39m,\n\u001b[0;32m    222\u001b[0m         \u001b[38;5;28mstr\u001b[39m(e),\n\u001b[0;32m    223\u001b[0m     )\n",
      "File \u001b[1;32m~\\AppData\\Local\\Programs\\Python\\Python312\\Lib\\site-packages\\sklearn\\metrics\\_classification.py:2686\u001b[0m, in \u001b[0;36mclassification_report\u001b[1;34m(y_true, y_pred, labels, target_names, sample_weight, digits, output_dict, zero_division)\u001b[0m\n\u001b[0;32m   2684\u001b[0m     row_fmt \u001b[38;5;241m=\u001b[39m \u001b[38;5;124m\"\u001b[39m\u001b[38;5;124m{\u001b[39m\u001b[38;5;124m:>\u001b[39m\u001b[38;5;132;01m{width}\u001b[39;00m\u001b[38;5;124ms} \u001b[39m\u001b[38;5;124m\"\u001b[39m \u001b[38;5;241m+\u001b[39m \u001b[38;5;124m\"\u001b[39m\u001b[38;5;124m \u001b[39m\u001b[38;5;124m{\u001b[39m\u001b[38;5;124m:>9.\u001b[39m\u001b[38;5;132;01m{digits}\u001b[39;00m\u001b[38;5;124mf}\u001b[39m\u001b[38;5;124m\"\u001b[39m \u001b[38;5;241m*\u001b[39m \u001b[38;5;241m3\u001b[39m \u001b[38;5;241m+\u001b[39m \u001b[38;5;124m\"\u001b[39m\u001b[38;5;124m \u001b[39m\u001b[38;5;132;01m{:>9}\u001b[39;00m\u001b[38;5;130;01m\\n\u001b[39;00m\u001b[38;5;124m\"\u001b[39m\n\u001b[0;32m   2685\u001b[0m     \u001b[38;5;28;01mfor\u001b[39;00m row \u001b[38;5;129;01min\u001b[39;00m rows:\n\u001b[1;32m-> 2686\u001b[0m         report \u001b[38;5;241m+\u001b[39m\u001b[38;5;241m=\u001b[39m \u001b[43mrow_fmt\u001b[49m\u001b[38;5;241;43m.\u001b[39;49m\u001b[43mformat\u001b[49m\u001b[43m(\u001b[49m\u001b[38;5;241;43m*\u001b[39;49m\u001b[43mrow\u001b[49m\u001b[43m,\u001b[49m\u001b[43m \u001b[49m\u001b[43mwidth\u001b[49m\u001b[38;5;241;43m=\u001b[39;49m\u001b[43mwidth\u001b[49m\u001b[43m,\u001b[49m\u001b[43m \u001b[49m\u001b[43mdigits\u001b[49m\u001b[38;5;241;43m=\u001b[39;49m\u001b[43mdigits\u001b[49m\u001b[43m)\u001b[49m\n\u001b[0;32m   2687\u001b[0m     report \u001b[38;5;241m+\u001b[39m\u001b[38;5;241m=\u001b[39m \u001b[38;5;124m\"\u001b[39m\u001b[38;5;130;01m\\n\u001b[39;00m\u001b[38;5;124m\"\u001b[39m\n\u001b[0;32m   2689\u001b[0m \u001b[38;5;66;03m# compute all applicable averages\u001b[39;00m\n",
      "\u001b[1;31mTypeError\u001b[0m: unsupported format string passed to bytes.__format__"
     ]
    }
   ],
   "source": [
    "from sklearn.neural_network import MLPClassifier\n",
    "from sklearn.metrics import classification_report\n",
    "\n",
    "# Tworzenie i trenowanie modelu\n",
    "model = MLPClassifier(hidden_layer_sizes=(100,), max_iter=500, alpha=0.01, solver='adam', verbose=1, random_state=21, tol=0.000000001)\n",
    "model.fit(X_train, y_train_encoded)\n"
   ]
  },
  {
   "cell_type": "code",
   "execution_count": 24,
   "id": "7ed39208-7f07-4f17-8a6b-785ac46bb78c",
   "metadata": {},
   "outputs": [
    {
     "ename": "TypeError",
     "evalue": "unsupported format string passed to bytes.__format__",
     "output_type": "error",
     "traceback": [
      "\u001b[1;31m---------------------------------------------------------------\u001b[0m",
      "\u001b[1;31mTypeError\u001b[0m                     Traceback (most recent call last)",
      "Cell \u001b[1;32mIn[24], line 5\u001b[0m\n\u001b[0;32m      2\u001b[0m y_pred \u001b[38;5;241m=\u001b[39m model\u001b[38;5;241m.\u001b[39mpredict(X_test)\n\u001b[0;32m      4\u001b[0m \u001b[38;5;66;03m# Wyświetlenie raportu klasyfikacji\u001b[39;00m\n\u001b[1;32m----> 5\u001b[0m \u001b[38;5;28mprint\u001b[39m(\u001b[43mclassification_report\u001b[49m\u001b[43m(\u001b[49m\u001b[43my_test_encoded\u001b[49m\u001b[43m,\u001b[49m\u001b[43m \u001b[49m\u001b[43my_pred\u001b[49m\u001b[43m,\u001b[49m\u001b[43m \u001b[49m\u001b[43mtarget_names\u001b[49m\u001b[38;5;241;43m=\u001b[39;49m\u001b[43mle\u001b[49m\u001b[38;5;241;43m.\u001b[39;49m\u001b[43mclasses_\u001b[49m\u001b[43m)\u001b[49m)\n",
      "File \u001b[1;32m~\\AppData\\Local\\Programs\\Python\\Python312\\Lib\\site-packages\\sklearn\\utils\\_param_validation.py:213\u001b[0m, in \u001b[0;36mvalidate_params.<locals>.decorator.<locals>.wrapper\u001b[1;34m(*args, **kwargs)\u001b[0m\n\u001b[0;32m    207\u001b[0m \u001b[38;5;28;01mtry\u001b[39;00m:\n\u001b[0;32m    208\u001b[0m     \u001b[38;5;28;01mwith\u001b[39;00m config_context(\n\u001b[0;32m    209\u001b[0m         skip_parameter_validation\u001b[38;5;241m=\u001b[39m(\n\u001b[0;32m    210\u001b[0m             prefer_skip_nested_validation \u001b[38;5;129;01mor\u001b[39;00m global_skip_validation\n\u001b[0;32m    211\u001b[0m         )\n\u001b[0;32m    212\u001b[0m     ):\n\u001b[1;32m--> 213\u001b[0m         \u001b[38;5;28;01mreturn\u001b[39;00m \u001b[43mfunc\u001b[49m\u001b[43m(\u001b[49m\u001b[38;5;241;43m*\u001b[39;49m\u001b[43margs\u001b[49m\u001b[43m,\u001b[49m\u001b[43m \u001b[49m\u001b[38;5;241;43m*\u001b[39;49m\u001b[38;5;241;43m*\u001b[39;49m\u001b[43mkwargs\u001b[49m\u001b[43m)\u001b[49m\n\u001b[0;32m    214\u001b[0m \u001b[38;5;28;01mexcept\u001b[39;00m InvalidParameterError \u001b[38;5;28;01mas\u001b[39;00m e:\n\u001b[0;32m    215\u001b[0m     \u001b[38;5;66;03m# When the function is just a wrapper around an estimator, we allow\u001b[39;00m\n\u001b[0;32m    216\u001b[0m     \u001b[38;5;66;03m# the function to delegate validation to the estimator, but we replace\u001b[39;00m\n\u001b[0;32m    217\u001b[0m     \u001b[38;5;66;03m# the name of the estimator by the name of the function in the error\u001b[39;00m\n\u001b[0;32m    218\u001b[0m     \u001b[38;5;66;03m# message to avoid confusion.\u001b[39;00m\n\u001b[0;32m    219\u001b[0m     msg \u001b[38;5;241m=\u001b[39m re\u001b[38;5;241m.\u001b[39msub(\n\u001b[0;32m    220\u001b[0m         \u001b[38;5;124mr\u001b[39m\u001b[38;5;124m\"\u001b[39m\u001b[38;5;124mparameter of \u001b[39m\u001b[38;5;124m\\\u001b[39m\u001b[38;5;124mw+ must be\u001b[39m\u001b[38;5;124m\"\u001b[39m,\n\u001b[0;32m    221\u001b[0m         \u001b[38;5;124mf\u001b[39m\u001b[38;5;124m\"\u001b[39m\u001b[38;5;124mparameter of \u001b[39m\u001b[38;5;132;01m{\u001b[39;00mfunc\u001b[38;5;241m.\u001b[39m\u001b[38;5;18m__qualname__\u001b[39m\u001b[38;5;132;01m}\u001b[39;00m\u001b[38;5;124m must be\u001b[39m\u001b[38;5;124m\"\u001b[39m,\n\u001b[0;32m    222\u001b[0m         \u001b[38;5;28mstr\u001b[39m(e),\n\u001b[0;32m    223\u001b[0m     )\n",
      "File \u001b[1;32m~\\AppData\\Local\\Programs\\Python\\Python312\\Lib\\site-packages\\sklearn\\metrics\\_classification.py:2686\u001b[0m, in \u001b[0;36mclassification_report\u001b[1;34m(y_true, y_pred, labels, target_names, sample_weight, digits, output_dict, zero_division)\u001b[0m\n\u001b[0;32m   2684\u001b[0m     row_fmt \u001b[38;5;241m=\u001b[39m \u001b[38;5;124m\"\u001b[39m\u001b[38;5;124m{\u001b[39m\u001b[38;5;124m:>\u001b[39m\u001b[38;5;132;01m{width}\u001b[39;00m\u001b[38;5;124ms} \u001b[39m\u001b[38;5;124m\"\u001b[39m \u001b[38;5;241m+\u001b[39m \u001b[38;5;124m\"\u001b[39m\u001b[38;5;124m \u001b[39m\u001b[38;5;124m{\u001b[39m\u001b[38;5;124m:>9.\u001b[39m\u001b[38;5;132;01m{digits}\u001b[39;00m\u001b[38;5;124mf}\u001b[39m\u001b[38;5;124m\"\u001b[39m \u001b[38;5;241m*\u001b[39m \u001b[38;5;241m3\u001b[39m \u001b[38;5;241m+\u001b[39m \u001b[38;5;124m\"\u001b[39m\u001b[38;5;124m \u001b[39m\u001b[38;5;132;01m{:>9}\u001b[39;00m\u001b[38;5;130;01m\\n\u001b[39;00m\u001b[38;5;124m\"\u001b[39m\n\u001b[0;32m   2685\u001b[0m     \u001b[38;5;28;01mfor\u001b[39;00m row \u001b[38;5;129;01min\u001b[39;00m rows:\n\u001b[1;32m-> 2686\u001b[0m         report \u001b[38;5;241m+\u001b[39m\u001b[38;5;241m=\u001b[39m \u001b[43mrow_fmt\u001b[49m\u001b[38;5;241;43m.\u001b[39;49m\u001b[43mformat\u001b[49m\u001b[43m(\u001b[49m\u001b[38;5;241;43m*\u001b[39;49m\u001b[43mrow\u001b[49m\u001b[43m,\u001b[49m\u001b[43m \u001b[49m\u001b[43mwidth\u001b[49m\u001b[38;5;241;43m=\u001b[39;49m\u001b[43mwidth\u001b[49m\u001b[43m,\u001b[49m\u001b[43m \u001b[49m\u001b[43mdigits\u001b[49m\u001b[38;5;241;43m=\u001b[39;49m\u001b[43mdigits\u001b[49m\u001b[43m)\u001b[49m\n\u001b[0;32m   2687\u001b[0m     report \u001b[38;5;241m+\u001b[39m\u001b[38;5;241m=\u001b[39m \u001b[38;5;124m\"\u001b[39m\u001b[38;5;130;01m\\n\u001b[39;00m\u001b[38;5;124m\"\u001b[39m\n\u001b[0;32m   2689\u001b[0m \u001b[38;5;66;03m# compute all applicable averages\u001b[39;00m\n",
      "\u001b[1;31mTypeError\u001b[0m: unsupported format string passed to bytes.__format__"
     ]
    }
   ],
   "source": [
    "# Predykcja\n",
    "y_pred = model.predict(X_test)\n",
    "\n",
    "# Wyświetlenie raportu klasyfikacji\n",
    "print(classification_report(y_test_encoded, y_pred, target_names=le.classes_))\n"
   ]
  },
  {
   "cell_type": "code",
   "execution_count": null,
   "id": "390f875b-1425-42ac-88fa-7ed0afea0941",
   "metadata": {},
   "outputs": [],
   "source": []
  },
  {
   "cell_type": "code",
   "execution_count": null,
   "id": "180ce4d9-c186-479b-b84c-e932775da7ab",
   "metadata": {},
   "outputs": [],
   "source": []
  },
  {
   "cell_type": "code",
   "execution_count": null,
   "id": "59b80646-b356-4872-b13f-cba6379fbb7a",
   "metadata": {},
   "outputs": [],
   "source": []
  }
 ],
 "metadata": {
  "kernelspec": {
   "display_name": "Python 3 (ipykernel)",
   "language": "python",
   "name": "python3"
  },
  "language_info": {
   "codemirror_mode": {
    "name": "ipython",
    "version": 3
   },
   "file_extension": ".py",
   "mimetype": "text/x-python",
   "name": "python",
   "nbconvert_exporter": "python",
   "pygments_lexer": "ipython3",
   "version": "3.12.4"
  }
 },
 "nbformat": 4,
 "nbformat_minor": 5
}
